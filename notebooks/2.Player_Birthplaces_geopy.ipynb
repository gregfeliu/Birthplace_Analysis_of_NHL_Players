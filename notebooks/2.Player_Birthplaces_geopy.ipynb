{
 "cells": [
  {
   "cell_type": "markdown",
   "metadata": {},
   "source": [
    "import pandas as pd\n",
    "# ^^^ pyforest auto-imports - don't write above this line\n",
    "# Finding the Coordinates of Players Birthplaces"
   ]
  },
  {
   "cell_type": "markdown",
   "metadata": {},
   "source": [
    "# Imports "
   ]
  },
  {
   "cell_type": "code",
   "execution_count": 9,
   "metadata": {
    "ExecuteTime": {
     "end_time": "2021-04-06T12:44:42.287415Z",
     "start_time": "2021-04-06T12:44:42.280526Z"
    }
   },
   "outputs": [],
   "source": [
    "import pandas as pd\n",
    "from functions import *\n",
    "%run functions.py\n",
    "import geopy\n",
    "from geopy.geocoders import Nominatim"
   ]
  },
  {
   "cell_type": "code",
   "execution_count": 3,
   "metadata": {
    "ExecuteTime": {
     "end_time": "2021-04-06T12:43:32.812531Z",
     "start_time": "2021-04-06T12:43:32.800946Z"
    }
   },
   "outputs": [],
   "source": [
    "player_info_df = pd.read_csv(\"data/player_info_df.csv\")\n",
    "player_info_df.drop(columns = ['Unnamed: 0', 'index'], inplace=True)"
   ]
  },
  {
   "cell_type": "code",
   "execution_count": 4,
   "metadata": {
    "ExecuteTime": {
     "end_time": "2021-04-06T12:43:32.997484Z",
     "start_time": "2021-04-06T12:43:32.988949Z"
    },
    "scrolled": true
   },
   "outputs": [],
   "source": [
    "n_am_players = player_info_df[player_info_df['nationality'].isin(['CAN', 'USA'])].reset_index(drop=True)\n",
    "can_players = n_am_players[n_am_players['birthCountry'] == 'CAN'].reset_index(drop=True)\n",
    "us_players = n_am_players[n_am_players['birthCountry'] == 'USA'].reset_index(drop=True)"
   ]
  },
  {
   "cell_type": "markdown",
   "metadata": {},
   "source": [
    "# Using Geopy"
   ]
  },
  {
   "cell_type": "code",
   "execution_count": 11,
   "metadata": {
    "ExecuteTime": {
     "end_time": "2021-04-06T12:45:08.190487Z",
     "start_time": "2021-04-06T12:45:08.184720Z"
    }
   },
   "outputs": [],
   "source": [
    "# initializing geopy\n",
    "geolocator = Nominatim(user_agent=\"NHL_birthplace_analysis\")"
   ]
  },
  {
   "cell_type": "code",
   "execution_count": 18,
   "metadata": {
    "ExecuteTime": {
     "end_time": "2021-04-06T12:46:26.646241Z",
     "start_time": "2021-04-06T12:46:26.637520Z"
    }
   },
   "outputs": [],
   "source": [
    "# the locations that I will feed into geopy\n",
    "n_am_players['location'] = n_am_players['birthCity'] + \",\" + n_am_players['birthStateProvince']"
   ]
  },
  {
   "cell_type": "code",
   "execution_count": 22,
   "metadata": {
    "ExecuteTime": {
     "end_time": "2021-04-06T12:58:14.714139Z",
     "start_time": "2021-04-06T12:53:23.416730Z"
    }
   },
   "outputs": [],
   "source": [
    "# running the function to find all locations\n",
    "# this took slightly long but was still faster than using wikipedia\n",
    "lat = []\n",
    "lng = []\n",
    "for item in n_am_players['location']:\n",
    "    try:\n",
    "        location = geolocator.geocode(item)\n",
    "        lat.append(location.latitude)\n",
    "        lng.append(location.longitude)\n",
    "    except AttributeError:\n",
    "        lat.append(None)\n",
    "        lng.append(None)"
   ]
  },
  {
   "cell_type": "code",
   "execution_count": 24,
   "metadata": {
    "ExecuteTime": {
     "end_time": "2021-04-06T13:01:17.880348Z",
     "start_time": "2021-04-06T13:01:17.873798Z"
    }
   },
   "outputs": [
    {
     "data": {
      "text/plain": [
       "True"
      ]
     },
     "execution_count": 24,
     "metadata": {},
     "output_type": "execute_result"
    }
   ],
   "source": [
    "n_am_players.shape[0] == len(lat)"
   ]
  },
  {
   "cell_type": "code",
   "execution_count": 25,
   "metadata": {
    "ExecuteTime": {
     "end_time": "2021-04-06T13:01:23.464171Z",
     "start_time": "2021-04-06T13:01:23.459655Z"
    }
   },
   "outputs": [
    {
     "data": {
      "text/plain": [
       "2"
      ]
     },
     "execution_count": 25,
     "metadata": {},
     "output_type": "execute_result"
    }
   ],
   "source": [
    "# so only 2 values couldn't be found \n",
    "lat.count(None)"
   ]
  },
  {
   "cell_type": "markdown",
   "metadata": {
    "ExecuteTime": {
     "end_time": "2021-04-06T13:02:20.980214Z",
     "start_time": "2021-04-06T13:02:20.973721Z"
    }
   },
   "source": [
    "## Correcting the errors\n"
   ]
  },
  {
   "cell_type": "code",
   "execution_count": 35,
   "metadata": {
    "ExecuteTime": {
     "end_time": "2021-04-06T13:05:30.335726Z",
     "start_time": "2021-04-06T13:05:30.328987Z"
    },
    "scrolled": true
   },
   "outputs": [
    {
     "data": {
      "text/plain": [
       "'St-Anne-de-Bellevue,QC'"
      ]
     },
     "execution_count": 35,
     "metadata": {},
     "output_type": "execute_result"
    }
   ],
   "source": [
    "# player 1\n",
    "index_1 = lat.index(None)\n",
    "n_am_players.iloc[index_1]['location']"
   ]
  },
  {
   "cell_type": "code",
   "execution_count": 28,
   "metadata": {
    "ExecuteTime": {
     "end_time": "2021-04-06T13:03:22.197248Z",
     "start_time": "2021-04-06T13:03:22.191134Z"
    }
   },
   "outputs": [
    {
     "data": {
      "text/plain": [
       "'45.4033,-73.9504'"
      ]
     },
     "execution_count": 28,
     "metadata": {},
     "output_type": "execute_result"
    }
   ],
   "source": [
    "test_str = turn_coords_to_correct_format(\"45.4033° N, 73.9504° W\")\n",
    "test_str"
   ]
  },
  {
   "cell_type": "code",
   "execution_count": 39,
   "metadata": {
    "ExecuteTime": {
     "end_time": "2021-04-06T13:06:29.935019Z",
     "start_time": "2021-04-06T13:06:29.928068Z"
    },
    "scrolled": true
   },
   "outputs": [
    {
     "data": {
      "text/plain": [
       "'Hilton Head Isl.,SC'"
      ]
     },
     "execution_count": 39,
     "metadata": {},
     "output_type": "execute_result"
    }
   ],
   "source": [
    "index_2 = lat.index(None, index_1+1)\n",
    "n_am_players.iloc[index_2]['location']"
   ]
  },
  {
   "cell_type": "code",
   "execution_count": 33,
   "metadata": {
    "ExecuteTime": {
     "end_time": "2021-04-06T13:04:36.717972Z",
     "start_time": "2021-04-06T13:04:36.713838Z"
    }
   },
   "outputs": [
    {
     "data": {
      "text/plain": [
       "'32.2163,-80.7526'"
      ]
     },
     "execution_count": 33,
     "metadata": {},
     "output_type": "execute_result"
    }
   ],
   "source": [
    "test_str = turn_coords_to_correct_format(\"32.2163° N, 80.7526° W\")\n",
    "test_str"
   ]
  },
  {
   "cell_type": "code",
   "execution_count": 40,
   "metadata": {
    "ExecuteTime": {
     "end_time": "2021-04-06T13:07:37.844423Z",
     "start_time": "2021-04-06T13:07:37.838895Z"
    }
   },
   "outputs": [],
   "source": [
    "# adding those values to the coordinates lists\n",
    "lat[index_1] = 45.4033\n",
    "lat[index_2] = 32.2163\n",
    "lng[index_1] = -73.9504\n",
    "lng[index_2] = -80.7526"
   ]
  },
  {
   "cell_type": "markdown",
   "metadata": {},
   "source": [
    "## Adding Data to the dataframe"
   ]
  },
  {
   "cell_type": "code",
   "execution_count": 41,
   "metadata": {
    "ExecuteTime": {
     "end_time": "2021-04-06T13:09:50.810866Z",
     "start_time": "2021-04-06T13:09:50.805261Z"
    }
   },
   "outputs": [],
   "source": [
    "n_am_players['lat'] = lat\n",
    "n_am_players['lng'] = lng"
   ]
  },
  {
   "cell_type": "markdown",
   "metadata": {},
   "source": [
    "# Saving Data"
   ]
  },
  {
   "cell_type": "code",
   "execution_count": 44,
   "metadata": {
    "ExecuteTime": {
     "end_time": "2021-04-06T13:10:41.931248Z",
     "start_time": "2021-04-06T13:10:41.915709Z"
    }
   },
   "outputs": [],
   "source": [
    "n_am_players.to_csv(\"data/n_am_players_w_coordinates.csv\")"
   ]
  }
 ],
 "metadata": {
  "kernelspec": {
   "display_name": "Python [conda env:learn-env] *",
   "language": "python",
   "name": "conda-env-learn-env-py"
  },
  "language_info": {
   "codemirror_mode": {
    "name": "ipython",
    "version": 3
   },
   "file_extension": ".py",
   "mimetype": "text/x-python",
   "name": "python",
   "nbconvert_exporter": "python",
   "pygments_lexer": "ipython3",
   "version": "3.6.9"
  },
  "toc": {
   "base_numbering": 1,
   "nav_menu": {},
   "number_sections": true,
   "sideBar": true,
   "skip_h1_title": false,
   "title_cell": "Table of Contents",
   "title_sidebar": "Contents",
   "toc_cell": false,
   "toc_position": {},
   "toc_section_display": true,
   "toc_window_display": true
  },
  "varInspector": {
   "cols": {
    "lenName": 16,
    "lenType": 16,
    "lenVar": 40
   },
   "kernels_config": {
    "python": {
     "delete_cmd_postfix": "",
     "delete_cmd_prefix": "del ",
     "library": "var_list.py",
     "varRefreshCmd": "print(var_dic_list())"
    },
    "r": {
     "delete_cmd_postfix": ") ",
     "delete_cmd_prefix": "rm(",
     "library": "var_list.r",
     "varRefreshCmd": "cat(var_dic_list()) "
    }
   },
   "types_to_exclude": [
    "module",
    "function",
    "builtin_function_or_method",
    "instance",
    "_Feature"
   ],
   "window_display": false
  }
 },
 "nbformat": 4,
 "nbformat_minor": 2
}
