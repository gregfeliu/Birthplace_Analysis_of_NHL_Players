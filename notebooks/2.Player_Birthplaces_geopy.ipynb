{
 "cells": [
  {
   "cell_type": "markdown",
   "metadata": {},
   "source": [
    "import pandas as pd\n",
    "# ^^^ pyforest auto-imports - don't write above this line\n",
    "# Finding the Coordinates of Players Birthplaces"
   ]
  },
  {
   "cell_type": "markdown",
   "metadata": {},
   "source": [
    "# Imports "
   ]
  },
  {
   "cell_type": "code",
   "execution_count": 1,
   "metadata": {
    "ExecuteTime": {
     "end_time": "2021-05-11T22:03:43.241936Z",
     "start_time": "2021-05-11T22:03:40.780443Z"
    }
   },
   "outputs": [
    {
     "name": "stderr",
     "output_type": "stream",
     "text": [
      "In /Users/gregfeliu/opt/anaconda3/envs/learn-env/lib/python3.6/site-packages/matplotlib/mpl-data/stylelib/_classic_test.mplstyle: \n",
      "The text.latex.preview rcparam was deprecated in Matplotlib 3.3 and will be removed two minor releases later.\n",
      "In /Users/gregfeliu/opt/anaconda3/envs/learn-env/lib/python3.6/site-packages/matplotlib/mpl-data/stylelib/_classic_test.mplstyle: \n",
      "The mathtext.fallback_to_cm rcparam was deprecated in Matplotlib 3.3 and will be removed two minor releases later.\n",
      "In /Users/gregfeliu/opt/anaconda3/envs/learn-env/lib/python3.6/site-packages/matplotlib/mpl-data/stylelib/_classic_test.mplstyle: Support for setting the 'mathtext.fallback_to_cm' rcParam is deprecated since 3.3 and will be removed two minor releases later; use 'mathtext.fallback : 'cm' instead.\n",
      "In /Users/gregfeliu/opt/anaconda3/envs/learn-env/lib/python3.6/site-packages/matplotlib/mpl-data/stylelib/_classic_test.mplstyle: \n",
      "The validate_bool_maybe_none function was deprecated in Matplotlib 3.3 and will be removed two minor releases later.\n",
      "In /Users/gregfeliu/opt/anaconda3/envs/learn-env/lib/python3.6/site-packages/matplotlib/mpl-data/stylelib/_classic_test.mplstyle: \n",
      "The savefig.jpeg_quality rcparam was deprecated in Matplotlib 3.3 and will be removed two minor releases later.\n",
      "In /Users/gregfeliu/opt/anaconda3/envs/learn-env/lib/python3.6/site-packages/matplotlib/mpl-data/stylelib/_classic_test.mplstyle: \n",
      "The keymap.all_axes rcparam was deprecated in Matplotlib 3.3 and will be removed two minor releases later.\n",
      "In /Users/gregfeliu/opt/anaconda3/envs/learn-env/lib/python3.6/site-packages/matplotlib/mpl-data/stylelib/_classic_test.mplstyle: \n",
      "The animation.avconv_path rcparam was deprecated in Matplotlib 3.3 and will be removed two minor releases later.\n",
      "In /Users/gregfeliu/opt/anaconda3/envs/learn-env/lib/python3.6/site-packages/matplotlib/mpl-data/stylelib/_classic_test.mplstyle: \n",
      "The animation.avconv_args rcparam was deprecated in Matplotlib 3.3 and will be removed two minor releases later.\n"
     ]
    }
   ],
   "source": [
    "import pandas as pd\n",
    "from functions import *\n",
    "from geopandas_functions import *\n",
    "%run functions.py\n",
    "import geopy\n",
    "from geopy.geocoders import Nominatim"
   ]
  },
  {
   "cell_type": "code",
   "execution_count": 2,
   "metadata": {
    "ExecuteTime": {
     "end_time": "2021-05-11T22:03:43.267040Z",
     "start_time": "2021-05-11T22:03:43.255776Z"
    }
   },
   "outputs": [],
   "source": [
    "player_info_df = pd.read_csv(\"data/player_info_df.csv\", index_col=0)"
   ]
  },
  {
   "cell_type": "code",
   "execution_count": null,
   "metadata": {
    "ExecuteTime": {
     "end_time": "2021-04-07T20:09:54.248832Z",
     "start_time": "2021-04-07T20:09:54.244057Z"
    },
    "scrolled": true
   },
   "outputs": [],
   "source": [
    "n_am_players = player_info_df[player_info_df['nationality'].isin(['CAN', 'USA'])].reset_index(drop=True)"
   ]
  },
  {
   "cell_type": "markdown",
   "metadata": {},
   "source": [
    "# Using Geopy"
   ]
  },
  {
   "cell_type": "code",
   "execution_count": null,
   "metadata": {
    "ExecuteTime": {
     "end_time": "2021-04-07T20:09:54.260608Z",
     "start_time": "2021-04-07T20:09:54.251461Z"
    }
   },
   "outputs": [],
   "source": [
    "# initializing geopy\n",
    "geolocator = Nominatim(user_agent=\"NHL_birthplace_analysis\")"
   ]
  },
  {
   "cell_type": "code",
   "execution_count": null,
   "metadata": {
    "ExecuteTime": {
     "end_time": "2021-04-07T20:09:54.268472Z",
     "start_time": "2021-04-07T20:09:54.262724Z"
    }
   },
   "outputs": [],
   "source": [
    "# the locations that I will feed into geopy\n",
    "n_am_players['location'] = n_am_players['birthCity'] + \",\" + n_am_players['birthStateProvince']"
   ]
  },
  {
   "cell_type": "code",
   "execution_count": null,
   "metadata": {
    "ExecuteTime": {
     "end_time": "2021-04-07T20:13:53.142187Z",
     "start_time": "2021-04-07T20:09:54.270156Z"
    }
   },
   "outputs": [],
   "source": [
    "# running the function to find all locations\n",
    "# this took slightly long but was still faster than using wikipedia\n",
    "lat = []\n",
    "lng = []\n",
    "for item in n_am_players['location']:\n",
    "    try:\n",
    "        location = geolocator.geocode(item)\n",
    "        lat.append(location.latitude)\n",
    "        lng.append(location.longitude)\n",
    "    except AttributeError:\n",
    "        lat.append(None)\n",
    "        lng.append(None)"
   ]
  },
  {
   "cell_type": "code",
   "execution_count": null,
   "metadata": {
    "ExecuteTime": {
     "end_time": "2021-04-07T20:13:53.164596Z",
     "start_time": "2021-04-07T20:09:52.938Z"
    }
   },
   "outputs": [],
   "source": [
    "# checking that I have a value (even if None) for each value in n_am_players\n",
    "n_am_players.shape[0] == len(lat)"
   ]
  },
  {
   "cell_type": "code",
   "execution_count": null,
   "metadata": {
    "ExecuteTime": {
     "end_time": "2021-04-07T20:13:53.166289Z",
     "start_time": "2021-04-07T20:09:52.939Z"
    }
   },
   "outputs": [],
   "source": [
    "# so only 2 values couldn't be found \n",
    "lat.count(None)"
   ]
  },
  {
   "cell_type": "markdown",
   "metadata": {
    "ExecuteTime": {
     "end_time": "2021-04-06T13:02:20.980214Z",
     "start_time": "2021-04-06T13:02:20.973721Z"
    }
   },
   "source": [
    "## Correcting the errors\n"
   ]
  },
  {
   "cell_type": "code",
   "execution_count": null,
   "metadata": {
    "ExecuteTime": {
     "end_time": "2021-04-07T20:13:53.167624Z",
     "start_time": "2021-04-07T20:09:52.940Z"
    },
    "scrolled": true
   },
   "outputs": [],
   "source": [
    "# player 1\n",
    "index_1 = lat.index(None)\n",
    "n_am_players.iloc[index_1]['location']"
   ]
  },
  {
   "cell_type": "code",
   "execution_count": null,
   "metadata": {
    "ExecuteTime": {
     "end_time": "2021-04-07T20:13:53.169018Z",
     "start_time": "2021-04-07T20:09:52.942Z"
    }
   },
   "outputs": [],
   "source": [
    "# This helps me to turn the coordinates I got from google into a string\n",
    "test_str = turn_coords_to_correct_format(\"45.4033° N, 73.9504° W\")\n",
    "test_str"
   ]
  },
  {
   "cell_type": "code",
   "execution_count": null,
   "metadata": {
    "ExecuteTime": {
     "end_time": "2021-04-07T20:13:53.170837Z",
     "start_time": "2021-04-07T20:09:52.943Z"
    },
    "scrolled": true
   },
   "outputs": [],
   "source": [
    "# player 2\n",
    "index_2 = lat.index(None, index_1+1)\n",
    "n_am_players.iloc[index_2]['location']"
   ]
  },
  {
   "cell_type": "code",
   "execution_count": null,
   "metadata": {
    "ExecuteTime": {
     "end_time": "2021-04-07T20:13:53.173791Z",
     "start_time": "2021-04-07T20:09:52.945Z"
    }
   },
   "outputs": [],
   "source": [
    "# adding those values to the coordinates lists\n",
    "lat[index_1] = 45.4033\n",
    "lat[index_2] = 32.2163\n",
    "lng[index_1] = -73.9504\n",
    "lng[index_2] = -80.7526"
   ]
  },
  {
   "cell_type": "markdown",
   "metadata": {},
   "source": [
    "## Adding Data to the dataframe"
   ]
  },
  {
   "cell_type": "code",
   "execution_count": null,
   "metadata": {
    "ExecuteTime": {
     "end_time": "2021-04-07T20:13:53.175249Z",
     "start_time": "2021-04-07T20:09:52.946Z"
    }
   },
   "outputs": [],
   "source": [
    "n_am_players['lat'] = lat\n",
    "n_am_players['lng'] = lng"
   ]
  },
  {
   "cell_type": "markdown",
   "metadata": {},
   "source": [
    "# Saving Data"
   ]
  },
  {
   "cell_type": "code",
   "execution_count": null,
   "metadata": {
    "ExecuteTime": {
     "end_time": "2021-04-07T20:13:53.176580Z",
     "start_time": "2021-04-07T20:09:52.948Z"
    }
   },
   "outputs": [],
   "source": [
    "n_am_players.to_csv(\"data/n_am_players_w_coordinates.csv\")"
   ]
  }
 ],
 "metadata": {
  "kernelspec": {
   "display_name": "Python [conda env:learn-env] *",
   "language": "python",
   "name": "conda-env-learn-env-py"
  },
  "language_info": {
   "codemirror_mode": {
    "name": "ipython",
    "version": 3
   },
   "file_extension": ".py",
   "mimetype": "text/x-python",
   "name": "python",
   "nbconvert_exporter": "python",
   "pygments_lexer": "ipython3",
   "version": "3.6.9"
  },
  "toc": {
   "base_numbering": 1,
   "nav_menu": {},
   "number_sections": true,
   "sideBar": true,
   "skip_h1_title": false,
   "title_cell": "Table of Contents",
   "title_sidebar": "Contents",
   "toc_cell": false,
   "toc_position": {},
   "toc_section_display": true,
   "toc_window_display": true
  },
  "varInspector": {
   "cols": {
    "lenName": 16,
    "lenType": 16,
    "lenVar": 40
   },
   "kernels_config": {
    "python": {
     "delete_cmd_postfix": "",
     "delete_cmd_prefix": "del ",
     "library": "var_list.py",
     "varRefreshCmd": "print(var_dic_list())"
    },
    "r": {
     "delete_cmd_postfix": ") ",
     "delete_cmd_prefix": "rm(",
     "library": "var_list.r",
     "varRefreshCmd": "cat(var_dic_list()) "
    }
   },
   "types_to_exclude": [
    "module",
    "function",
    "builtin_function_or_method",
    "instance",
    "_Feature"
   ],
   "window_display": false
  }
 },
 "nbformat": 4,
 "nbformat_minor": 2
}
