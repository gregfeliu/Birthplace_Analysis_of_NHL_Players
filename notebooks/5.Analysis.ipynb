{
 "cells": [
  {
   "cell_type": "markdown",
   "metadata": {},
   "source": [
    "# Analyzing the Birthplaces of NHL Players and Their Closest NHL Team"
   ]
  },
  {
   "cell_type": "markdown",
   "metadata": {},
   "source": [
    "# Imports "
   ]
  },
  {
   "cell_type": "code",
   "execution_count": 6,
   "metadata": {
    "ExecuteTime": {
     "end_time": "2021-05-03T20:49:14.891677Z",
     "start_time": "2021-05-03T20:49:14.879409Z"
    }
   },
   "outputs": [],
   "source": [
    "import pandas as pd\n",
    "from functions import *\n",
    "%run functions.py\n",
    "import seaborn as sns\n",
    "import warnings\n",
    "warnings.filterwarnings('ignore')\n",
    "from haversine import haversine, Unit # I could have used geopy.distance, too\n",
    "import scipy.stats as st\n",
    "import numpy as np \n",
    "import pylab \n",
    "import mapclassify as mc\n",
    "import geoplot as gplt\n",
    "import geoplot.crs as gcrs\n",
    "import matplotlib.pyplot as plt\n",
    "import fiona"
   ]
  },
  {
   "cell_type": "markdown",
   "metadata": {},
   "source": [
    "## Data"
   ]
  },
  {
   "cell_type": "code",
   "execution_count": 2,
   "metadata": {
    "ExecuteTime": {
     "end_time": "2021-04-30T19:05:51.648282Z",
     "start_time": "2021-04-30T19:05:51.629814Z"
    }
   },
   "outputs": [],
   "source": [
    "all_players_df = pd.read_csv('data/player_info_df.csv', index_col=0)\n",
    "all_na_players_df = pd.read_csv('data/all_players_full_info.csv', index_col=0)"
   ]
  },
  {
   "cell_type": "code",
   "execution_count": 3,
   "metadata": {
    "ExecuteTime": {
     "end_time": "2021-04-30T19:05:51.662627Z",
     "start_time": "2021-04-30T19:05:51.650587Z"
    }
   },
   "outputs": [],
   "source": [
    "player_gdf = pd.read_csv(\"data/player_gdf.csv\", index_col=0)\n",
    "player_gdf.drop(columns = ['link','Lat', 'Lng', 'geometry', 'nearest_geom', 'line'], inplace=True)"
   ]
  },
  {
   "cell_type": "code",
   "execution_count": 4,
   "metadata": {
    "ExecuteTime": {
     "end_time": "2021-04-30T19:05:51.681202Z",
     "start_time": "2021-04-30T19:05:51.664808Z"
    }
   },
   "outputs": [
    {
     "data": {
      "text/html": [
       "<div>\n",
       "<style scoped>\n",
       "    .dataframe tbody tr th:only-of-type {\n",
       "        vertical-align: middle;\n",
       "    }\n",
       "\n",
       "    .dataframe tbody tr th {\n",
       "        vertical-align: top;\n",
       "    }\n",
       "\n",
       "    .dataframe thead th {\n",
       "        text-align: right;\n",
       "    }\n",
       "</style>\n",
       "<table border=\"1\" class=\"dataframe\">\n",
       "  <thead>\n",
       "    <tr style=\"text-align: right;\">\n",
       "      <th></th>\n",
       "      <th>id</th>\n",
       "      <th>fullName</th>\n",
       "      <th>position</th>\n",
       "      <th>team_id</th>\n",
       "      <th>birthCity</th>\n",
       "      <th>birthStateProvince</th>\n",
       "      <th>birthCountry</th>\n",
       "      <th>nationality</th>\n",
       "      <th>team_name</th>\n",
       "      <th>city_province</th>\n",
       "      <th>coordinates</th>\n",
       "      <th>nearest_team</th>\n",
       "      <th>haversine_distance</th>\n",
       "      <th>close_to_any_team</th>\n",
       "    </tr>\n",
       "  </thead>\n",
       "  <tbody>\n",
       "    <tr>\n",
       "      <th>0</th>\n",
       "      <td>8479414</td>\n",
       "      <td>Nathan Bastian</td>\n",
       "      <td>RW</td>\n",
       "      <td>1</td>\n",
       "      <td>Kitchener</td>\n",
       "      <td>ON</td>\n",
       "      <td>CAN</td>\n",
       "      <td>CAN</td>\n",
       "      <td>New Jersey Devils</td>\n",
       "      <td>Kitchener,ON</td>\n",
       "      <td>43.4186,-80.4728</td>\n",
       "      <td>Toronto Maple Leafs</td>\n",
       "      <td>56.938564</td>\n",
       "      <td>True</td>\n",
       "    </tr>\n",
       "    <tr>\n",
       "      <th>1</th>\n",
       "      <td>8481740</td>\n",
       "      <td>Tyce Thompson</td>\n",
       "      <td>RW</td>\n",
       "      <td>1</td>\n",
       "      <td>Calgary</td>\n",
       "      <td>AB</td>\n",
       "      <td>CAN</td>\n",
       "      <td>CAN</td>\n",
       "      <td>New Jersey Devils</td>\n",
       "      <td>Calgary,AB</td>\n",
       "      <td>51.05,-114.0667</td>\n",
       "      <td>Calgary Flames</td>\n",
       "      <td>1.076696</td>\n",
       "      <td>True</td>\n",
       "    </tr>\n",
       "  </tbody>\n",
       "</table>\n",
       "</div>"
      ],
      "text/plain": [
       "        id        fullName position  team_id  birthCity birthStateProvince  \\\n",
       "0  8479414  Nathan Bastian       RW        1  Kitchener                 ON   \n",
       "1  8481740   Tyce Thompson       RW        1    Calgary                 AB   \n",
       "\n",
       "  birthCountry nationality          team_name city_province       coordinates  \\\n",
       "0          CAN         CAN  New Jersey Devils  Kitchener,ON  43.4186,-80.4728   \n",
       "1          CAN         CAN  New Jersey Devils    Calgary,AB   51.05,-114.0667   \n",
       "\n",
       "          nearest_team  haversine_distance  close_to_any_team  \n",
       "0  Toronto Maple Leafs           56.938564               True  \n",
       "1       Calgary Flames            1.076696               True  "
      ]
     },
     "execution_count": 4,
     "metadata": {},
     "output_type": "execute_result"
    }
   ],
   "source": [
    "player_gdf.head(2)"
   ]
  },
  {
   "cell_type": "markdown",
   "metadata": {},
   "source": [
    "# Team Analysis"
   ]
  },
  {
   "cell_type": "markdown",
   "metadata": {},
   "source": [
    "## How Many Players COULD Play for Closest Team"
   ]
  },
  {
   "cell_type": "code",
   "execution_count": 5,
   "metadata": {
    "ExecuteTime": {
     "end_time": "2021-04-30T19:05:51.688160Z",
     "start_time": "2021-04-30T19:05:51.683061Z"
    }
   },
   "outputs": [],
   "source": [
    "team_df = pd.DataFrame(player_gdf.groupby('nearest_team').id.count())"
   ]
  },
  {
   "cell_type": "markdown",
   "metadata": {},
   "source": [
    "### Full teams"
   ]
  },
  {
   "cell_type": "code",
   "execution_count": 6,
   "metadata": {
    "ExecuteTime": {
     "end_time": "2021-04-30T19:05:51.812268Z",
     "start_time": "2021-04-30T19:05:51.690307Z"
    }
   },
   "outputs": [
    {
     "data": {
      "text/plain": [
       "<AxesSubplot:xlabel='id'>"
      ]
     },
     "execution_count": 6,
     "metadata": {},
     "output_type": "execute_result"
    },
    {
     "data": {
      "image/png": "[encoded data removed]",
      "text/plain": [
       "<Figure size 432x288 with 1 Axes>"
      ]
     },
     "metadata": {
      "needs_background": "light"
     },
     "output_type": "display_data"
    }
   ],
   "source": [
    "# distribution\n",
    "sns.violinplot(x=team_df[\"id\"])"
   ]
  },
  {
   "cell_type": "code",
   "execution_count": 7,
   "metadata": {
    "ExecuteTime": {
     "end_time": "2021-04-30T19:05:51.822832Z",
     "start_time": "2021-04-30T19:05:51.813887Z"
    }
   },
   "outputs": [
    {
     "data": {
      "text/html": [
       "<div>\n",
       "<style scoped>\n",
       "    .dataframe tbody tr th:only-of-type {\n",
       "        vertical-align: middle;\n",
       "    }\n",
       "\n",
       "    .dataframe tbody tr th {\n",
       "        vertical-align: top;\n",
       "    }\n",
       "\n",
       "    .dataframe thead th {\n",
       "        text-align: right;\n",
       "    }\n",
       "</style>\n",
       "<table border=\"1\" class=\"dataframe\">\n",
       "  <thead>\n",
       "    <tr style=\"text-align: right;\">\n",
       "      <th></th>\n",
       "      <th>id</th>\n",
       "    </tr>\n",
       "    <tr>\n",
       "      <th>nearest_team</th>\n",
       "      <th></th>\n",
       "    </tr>\n",
       "  </thead>\n",
       "  <tbody>\n",
       "    <tr>\n",
       "      <th>Toronto Maple Leafs</th>\n",
       "      <td>113</td>\n",
       "    </tr>\n",
       "    <tr>\n",
       "      <th>Detroit Red Wings</th>\n",
       "      <td>57</td>\n",
       "    </tr>\n",
       "    <tr>\n",
       "      <th>Minnesota Wild</th>\n",
       "      <td>44</td>\n",
       "    </tr>\n",
       "    <tr>\n",
       "      <th>Montréal Canadiens</th>\n",
       "      <td>44</td>\n",
       "    </tr>\n",
       "    <tr>\n",
       "      <th>Vancouver Canucks</th>\n",
       "      <td>43</td>\n",
       "    </tr>\n",
       "    <tr>\n",
       "      <th>Boston Bruins</th>\n",
       "      <td>40</td>\n",
       "    </tr>\n",
       "    <tr>\n",
       "      <th>Winnipeg Jets</th>\n",
       "      <td>40</td>\n",
       "    </tr>\n",
       "    <tr>\n",
       "      <th>Edmonton Oilers</th>\n",
       "      <td>31</td>\n",
       "    </tr>\n",
       "    <tr>\n",
       "      <th>Calgary Flames</th>\n",
       "      <td>29</td>\n",
       "    </tr>\n",
       "    <tr>\n",
       "      <th>Chicago Blackhawks</th>\n",
       "      <td>24</td>\n",
       "    </tr>\n",
       "    <tr>\n",
       "      <th>Ottawa Senators</th>\n",
       "      <td>22</td>\n",
       "    </tr>\n",
       "  </tbody>\n",
       "</table>\n",
       "</div>"
      ],
      "text/plain": [
       "                      id\n",
       "nearest_team            \n",
       "Toronto Maple Leafs  113\n",
       "Detroit Red Wings     57\n",
       "Minnesota Wild        44\n",
       "Montréal Canadiens    44\n",
       "Vancouver Canucks     43\n",
       "Boston Bruins         40\n",
       "Winnipeg Jets         40\n",
       "Edmonton Oilers       31\n",
       "Calgary Flames        29\n",
       "Chicago Blackhawks    24\n",
       "Ottawa Senators       22"
      ]
     },
     "execution_count": 7,
     "metadata": {},
     "output_type": "execute_result"
    }
   ],
   "source": [
    "# 11 teams would still be around!\n",
    "# all 7 canadian teams plus one border team (Detroit, not Buffalo though)\n",
    "team_df[team_df['id'] > 18].sort_values(by='id', ascending=False)"
   ]
  },
  {
   "cell_type": "code",
   "execution_count": 8,
   "metadata": {
    "ExecuteTime": {
     "end_time": "2021-04-30T19:05:51.830197Z",
     "start_time": "2021-04-30T19:05:51.827278Z"
    }
   },
   "outputs": [
    {
     "name": "stdout",
     "output_type": "stream",
     "text": [
      "69.0% of players are from NA\n"
     ]
    }
   ],
   "source": [
    "print(f\"{round(all_na_players_df.shape[0] / all_players_df.shape[0], 2)*100}% of players are from NA\")"
   ]
  },
  {
   "cell_type": "code",
   "execution_count": 9,
   "metadata": {
    "ExecuteTime": {
     "end_time": "2021-04-30T19:05:51.836158Z",
     "start_time": "2021-04-30T19:05:51.833036Z"
    }
   },
   "outputs": [],
   "source": [
    "# A team roster has 18 players, normally\n",
    "team_roster_count = player_gdf.shape[0] / player_gdf.team_name.nunique()"
   ]
  },
  {
   "cell_type": "code",
   "execution_count": 10,
   "metadata": {
    "ExecuteTime": {
     "end_time": "2021-04-30T19:05:51.845027Z",
     "start_time": "2021-04-30T19:05:51.837796Z"
    }
   },
   "outputs": [
    {
     "data": {
      "text/html": [
       "<div>\n",
       "<style scoped>\n",
       "    .dataframe tbody tr th:only-of-type {\n",
       "        vertical-align: middle;\n",
       "    }\n",
       "\n",
       "    .dataframe tbody tr th {\n",
       "        vertical-align: top;\n",
       "    }\n",
       "\n",
       "    .dataframe thead th {\n",
       "        text-align: right;\n",
       "    }\n",
       "</style>\n",
       "<table border=\"1\" class=\"dataframe\">\n",
       "  <thead>\n",
       "    <tr style=\"text-align: right;\">\n",
       "      <th></th>\n",
       "      <th>id</th>\n",
       "    </tr>\n",
       "    <tr>\n",
       "      <th>nearest_team</th>\n",
       "      <th></th>\n",
       "    </tr>\n",
       "  </thead>\n",
       "  <tbody>\n",
       "    <tr>\n",
       "      <th>Toronto Maple Leafs</th>\n",
       "      <td>113</td>\n",
       "    </tr>\n",
       "    <tr>\n",
       "      <th>Detroit Red Wings</th>\n",
       "      <td>57</td>\n",
       "    </tr>\n",
       "    <tr>\n",
       "      <th>Minnesota Wild</th>\n",
       "      <td>44</td>\n",
       "    </tr>\n",
       "    <tr>\n",
       "      <th>Montréal Canadiens</th>\n",
       "      <td>44</td>\n",
       "    </tr>\n",
       "    <tr>\n",
       "      <th>Vancouver Canucks</th>\n",
       "      <td>43</td>\n",
       "    </tr>\n",
       "    <tr>\n",
       "      <th>Boston Bruins</th>\n",
       "      <td>40</td>\n",
       "    </tr>\n",
       "    <tr>\n",
       "      <th>Winnipeg Jets</th>\n",
       "      <td>40</td>\n",
       "    </tr>\n",
       "    <tr>\n",
       "      <th>Edmonton Oilers</th>\n",
       "      <td>31</td>\n",
       "    </tr>\n",
       "    <tr>\n",
       "      <th>Calgary Flames</th>\n",
       "      <td>29</td>\n",
       "    </tr>\n",
       "    <tr>\n",
       "      <th>Chicago Blackhawks</th>\n",
       "      <td>24</td>\n",
       "    </tr>\n",
       "    <tr>\n",
       "      <th>Ottawa Senators</th>\n",
       "      <td>22</td>\n",
       "    </tr>\n",
       "  </tbody>\n",
       "</table>\n",
       "</div>"
      ],
      "text/plain": [
       "                      id\n",
       "nearest_team            \n",
       "Toronto Maple Leafs  113\n",
       "Detroit Red Wings     57\n",
       "Minnesota Wild        44\n",
       "Montréal Canadiens    44\n",
       "Vancouver Canucks     43\n",
       "Boston Bruins         40\n",
       "Winnipeg Jets         40\n",
       "Edmonton Oilers       31\n",
       "Calgary Flames        29\n",
       "Chicago Blackhawks    24\n",
       "Ottawa Senators       22"
      ]
     },
     "execution_count": 10,
     "metadata": {},
     "output_type": "execute_result"
    }
   ],
   "source": [
    "# Since 70% of players are from NA, how many teams have 70% of a roster? 13\n",
    "## how many teams have more than 13 players born close to them? Same amount as before\n",
    "team_df[team_df['id'] > 13].sort_values(by='id', ascending=False)"
   ]
  },
  {
   "cell_type": "markdown",
   "metadata": {},
   "source": [
    "#### Are reasonably close"
   ]
  },
  {
   "cell_type": "code",
   "execution_count": 11,
   "metadata": {
    "ExecuteTime": {
     "end_time": "2021-04-30T19:05:51.852989Z",
     "start_time": "2021-04-30T19:05:51.847223Z"
    }
   },
   "outputs": [],
   "source": [
    "team_df_close = pd.DataFrame(player_gdf[player_gdf['close_to_any_team']==True].groupby('nearest_team').id.count())"
   ]
  },
  {
   "cell_type": "code",
   "execution_count": 12,
   "metadata": {
    "ExecuteTime": {
     "end_time": "2021-04-30T19:05:51.862211Z",
     "start_time": "2021-04-30T19:05:51.854539Z"
    }
   },
   "outputs": [
    {
     "data": {
      "text/html": [
       "<div>\n",
       "<style scoped>\n",
       "    .dataframe tbody tr th:only-of-type {\n",
       "        vertical-align: middle;\n",
       "    }\n",
       "\n",
       "    .dataframe tbody tr th {\n",
       "        vertical-align: top;\n",
       "    }\n",
       "\n",
       "    .dataframe thead th {\n",
       "        text-align: right;\n",
       "    }\n",
       "</style>\n",
       "<table border=\"1\" class=\"dataframe\">\n",
       "  <thead>\n",
       "    <tr style=\"text-align: right;\">\n",
       "      <th></th>\n",
       "      <th>id</th>\n",
       "    </tr>\n",
       "    <tr>\n",
       "      <th>nearest_team</th>\n",
       "      <th></th>\n",
       "    </tr>\n",
       "  </thead>\n",
       "  <tbody>\n",
       "    <tr>\n",
       "      <th>Toronto Maple Leafs</th>\n",
       "      <td>103</td>\n",
       "    </tr>\n",
       "    <tr>\n",
       "      <th>Detroit Red Wings</th>\n",
       "      <td>36</td>\n",
       "    </tr>\n",
       "    <tr>\n",
       "      <th>Vancouver Canucks</th>\n",
       "      <td>31</td>\n",
       "    </tr>\n",
       "    <tr>\n",
       "      <th>Montréal Canadiens</th>\n",
       "      <td>30</td>\n",
       "    </tr>\n",
       "    <tr>\n",
       "      <th>Minnesota Wild</th>\n",
       "      <td>26</td>\n",
       "    </tr>\n",
       "    <tr>\n",
       "      <th>Boston Bruins</th>\n",
       "      <td>23</td>\n",
       "    </tr>\n",
       "    <tr>\n",
       "      <th>Edmonton Oilers</th>\n",
       "      <td>18</td>\n",
       "    </tr>\n",
       "    <tr>\n",
       "      <th>Calgary Flames</th>\n",
       "      <td>17</td>\n",
       "    </tr>\n",
       "  </tbody>\n",
       "</table>\n",
       "</div>"
      ],
      "text/plain": [
       "                      id\n",
       "nearest_team            \n",
       "Toronto Maple Leafs  103\n",
       "Detroit Red Wings     36\n",
       "Vancouver Canucks     31\n",
       "Montréal Canadiens    30\n",
       "Minnesota Wild        26\n",
       "Boston Bruins         23\n",
       "Edmonton Oilers       18\n",
       "Calgary Flames        17"
      ]
     },
     "execution_count": 12,
     "metadata": {},
     "output_type": "execute_result"
    }
   ],
   "source": [
    "# 8 teams have enough players born close to the team\n",
    "team_df_close[team_df_close['id'] > 13].sort_values(by='id', ascending=False)"
   ]
  },
  {
   "cell_type": "markdown",
   "metadata": {},
   "source": [
    "## Few Players"
   ]
  },
  {
   "cell_type": "code",
   "execution_count": 13,
   "metadata": {
    "ExecuteTime": {
     "end_time": "2021-04-30T19:05:51.873234Z",
     "start_time": "2021-04-30T19:05:51.864173Z"
    }
   },
   "outputs": [
    {
     "data": {
      "text/html": [
       "<div>\n",
       "<style scoped>\n",
       "    .dataframe tbody tr th:only-of-type {\n",
       "        vertical-align: middle;\n",
       "    }\n",
       "\n",
       "    .dataframe tbody tr th {\n",
       "        vertical-align: top;\n",
       "    }\n",
       "\n",
       "    .dataframe thead th {\n",
       "        text-align: right;\n",
       "    }\n",
       "</style>\n",
       "<table border=\"1\" class=\"dataframe\">\n",
       "  <thead>\n",
       "    <tr style=\"text-align: right;\">\n",
       "      <th></th>\n",
       "      <th>id</th>\n",
       "    </tr>\n",
       "    <tr>\n",
       "      <th>nearest_team</th>\n",
       "      <th></th>\n",
       "    </tr>\n",
       "  </thead>\n",
       "  <tbody>\n",
       "    <tr>\n",
       "      <th>San Jose Sharks</th>\n",
       "      <td>1</td>\n",
       "    </tr>\n",
       "    <tr>\n",
       "      <th>Vegas Golden Knights</th>\n",
       "      <td>1</td>\n",
       "    </tr>\n",
       "    <tr>\n",
       "      <th>Florida Panthers</th>\n",
       "      <td>1</td>\n",
       "    </tr>\n",
       "    <tr>\n",
       "      <th>Nashville Predators</th>\n",
       "      <td>2</td>\n",
       "    </tr>\n",
       "    <tr>\n",
       "      <th>Carolina Hurricanes</th>\n",
       "      <td>2</td>\n",
       "    </tr>\n",
       "    <tr>\n",
       "      <th>Tampa Bay Lightning</th>\n",
       "      <td>3</td>\n",
       "    </tr>\n",
       "    <tr>\n",
       "      <th>New Jersey Devils</th>\n",
       "      <td>4</td>\n",
       "    </tr>\n",
       "    <tr>\n",
       "      <th>Los Angeles Kings</th>\n",
       "      <td>4</td>\n",
       "    </tr>\n",
       "    <tr>\n",
       "      <th>Washington Capitals</th>\n",
       "      <td>4</td>\n",
       "    </tr>\n",
       "    <tr>\n",
       "      <th>Columbus Blue Jackets</th>\n",
       "      <td>4</td>\n",
       "    </tr>\n",
       "    <tr>\n",
       "      <th>Arizona Coyotes</th>\n",
       "      <td>4</td>\n",
       "    </tr>\n",
       "    <tr>\n",
       "      <th>Philadelphia Flyers</th>\n",
       "      <td>5</td>\n",
       "    </tr>\n",
       "    <tr>\n",
       "      <th>Anaheim Ducks</th>\n",
       "      <td>5</td>\n",
       "    </tr>\n",
       "    <tr>\n",
       "      <th>Colorado Avalanche</th>\n",
       "      <td>6</td>\n",
       "    </tr>\n",
       "    <tr>\n",
       "      <th>New York Rangers</th>\n",
       "      <td>6</td>\n",
       "    </tr>\n",
       "    <tr>\n",
       "      <th>St. Louis Blues</th>\n",
       "      <td>6</td>\n",
       "    </tr>\n",
       "    <tr>\n",
       "      <th>Dallas Stars</th>\n",
       "      <td>6</td>\n",
       "    </tr>\n",
       "    <tr>\n",
       "      <th>Pittsburgh Penguins</th>\n",
       "      <td>7</td>\n",
       "    </tr>\n",
       "    <tr>\n",
       "      <th>New York Islanders</th>\n",
       "      <td>12</td>\n",
       "    </tr>\n",
       "    <tr>\n",
       "      <th>Buffalo Sabres</th>\n",
       "      <td>12</td>\n",
       "    </tr>\n",
       "  </tbody>\n",
       "</table>\n",
       "</div>"
      ],
      "text/plain": [
       "                       id\n",
       "nearest_team             \n",
       "San Jose Sharks         1\n",
       "Vegas Golden Knights    1\n",
       "Florida Panthers        1\n",
       "Nashville Predators     2\n",
       "Carolina Hurricanes     2\n",
       "Tampa Bay Lightning     3\n",
       "New Jersey Devils       4\n",
       "Los Angeles Kings       4\n",
       "Washington Capitals     4\n",
       "Columbus Blue Jackets   4\n",
       "Arizona Coyotes         4\n",
       "Philadelphia Flyers     5\n",
       "Anaheim Ducks           5\n",
       "Colorado Avalanche      6\n",
       "New York Rangers        6\n",
       "St. Louis Blues         6\n",
       "Dallas Stars            6\n",
       "Pittsburgh Penguins     7\n",
       "New York Islanders     12\n",
       "Buffalo Sabres         12"
      ]
     },
     "execution_count": 13,
     "metadata": {},
     "output_type": "execute_result"
    }
   ],
   "source": [
    "# lots of teh southern teams have 5 or fewer players\n",
    "# Every team has at least one NHL-quality player near them. That's frankly surprising\n",
    "team_df[team_df['id'] < 13].sort_values(by='id')"
   ]
  },
  {
   "cell_type": "markdown",
   "metadata": {},
   "source": [
    "# Players Playing for Home Team"
   ]
  },
  {
   "cell_type": "code",
   "execution_count": 14,
   "metadata": {
    "ExecuteTime": {
     "end_time": "2021-04-30T19:05:51.879174Z",
     "start_time": "2021-04-30T19:05:51.875397Z"
    }
   },
   "outputs": [
    {
     "name": "stdout",
     "output_type": "stream",
     "text": [
      "32\n"
     ]
    }
   ],
   "source": [
    "home_team = player_gdf[player_gdf['team_name'] == player_gdf['nearest_team']]\n",
    "# only 32 players play for their local team\n",
    "print(home_team.shape[0])"
   ]
  },
  {
   "cell_type": "code",
   "execution_count": 15,
   "metadata": {
    "ExecuteTime": {
     "end_time": "2021-04-30T19:05:51.888996Z",
     "start_time": "2021-04-30T19:05:51.880871Z"
    }
   },
   "outputs": [
    {
     "data": {
      "text/html": [
       "<div>\n",
       "<style scoped>\n",
       "    .dataframe tbody tr th:only-of-type {\n",
       "        vertical-align: middle;\n",
       "    }\n",
       "\n",
       "    .dataframe tbody tr th {\n",
       "        vertical-align: top;\n",
       "    }\n",
       "\n",
       "    .dataframe thead th {\n",
       "        text-align: right;\n",
       "    }\n",
       "</style>\n",
       "<table border=\"1\" class=\"dataframe\">\n",
       "  <thead>\n",
       "    <tr style=\"text-align: right;\">\n",
       "      <th></th>\n",
       "      <th>id</th>\n",
       "    </tr>\n",
       "    <tr>\n",
       "      <th>team_name</th>\n",
       "      <th></th>\n",
       "    </tr>\n",
       "  </thead>\n",
       "  <tbody>\n",
       "    <tr>\n",
       "      <th>Toronto Maple Leafs</th>\n",
       "      <td>8</td>\n",
       "    </tr>\n",
       "    <tr>\n",
       "      <th>Boston Bruins</th>\n",
       "      <td>4</td>\n",
       "    </tr>\n",
       "    <tr>\n",
       "      <th>Detroit Red Wings</th>\n",
       "      <td>3</td>\n",
       "    </tr>\n",
       "    <tr>\n",
       "      <th>Minnesota Wild</th>\n",
       "      <td>3</td>\n",
       "    </tr>\n",
       "    <tr>\n",
       "      <th>Montréal Canadiens</th>\n",
       "      <td>3</td>\n",
       "    </tr>\n",
       "    <tr>\n",
       "      <th>Calgary Flames</th>\n",
       "      <td>2</td>\n",
       "    </tr>\n",
       "    <tr>\n",
       "      <th>Vancouver Canucks</th>\n",
       "      <td>2</td>\n",
       "    </tr>\n",
       "    <tr>\n",
       "      <th>Buffalo Sabres</th>\n",
       "      <td>1</td>\n",
       "    </tr>\n",
       "    <tr>\n",
       "      <th>Columbus Blue Jackets</th>\n",
       "      <td>1</td>\n",
       "    </tr>\n",
       "    <tr>\n",
       "      <th>Edmonton Oilers</th>\n",
       "      <td>1</td>\n",
       "    </tr>\n",
       "    <tr>\n",
       "      <th>Los Angeles Kings</th>\n",
       "      <td>1</td>\n",
       "    </tr>\n",
       "    <tr>\n",
       "      <th>Nashville Predators</th>\n",
       "      <td>1</td>\n",
       "    </tr>\n",
       "    <tr>\n",
       "      <th>Ottawa Senators</th>\n",
       "      <td>1</td>\n",
       "    </tr>\n",
       "    <tr>\n",
       "      <th>Pittsburgh Penguins</th>\n",
       "      <td>1</td>\n",
       "    </tr>\n",
       "  </tbody>\n",
       "</table>\n",
       "</div>"
      ],
      "text/plain": [
       "                       id\n",
       "team_name                \n",
       "Toronto Maple Leafs     8\n",
       "Boston Bruins           4\n",
       "Detroit Red Wings       3\n",
       "Minnesota Wild          3\n",
       "Montréal Canadiens      3\n",
       "Calgary Flames          2\n",
       "Vancouver Canucks       2\n",
       "Buffalo Sabres          1\n",
       "Columbus Blue Jackets   1\n",
       "Edmonton Oilers         1\n",
       "Los Angeles Kings       1\n",
       "Nashville Predators     1\n",
       "Ottawa Senators         1\n",
       "Pittsburgh Penguins     1"
      ]
     },
     "execution_count": 15,
     "metadata": {},
     "output_type": "execute_result"
    }
   ],
   "source": [
    "# the Bruins and the Maples Leafs have the most hometown players\n",
    "home_team_groupby = pd.DataFrame(home_team.groupby('team_name').id.count())\n",
    "home_team_groupby.sort_values(by='id', ascending=False)"
   ]
  },
  {
   "cell_type": "markdown",
   "metadata": {},
   "source": [
    "## Which team has the highest proportion of local players on their team?"
   ]
  },
  {
   "cell_type": "code",
   "execution_count": 16,
   "metadata": {
    "ExecuteTime": {
     "end_time": "2021-04-30T19:05:51.893169Z",
     "start_time": "2021-04-30T19:05:51.890397Z"
    }
   },
   "outputs": [],
   "source": [
    "# since the Maple Leafs have the most local players, it makes sense that they would have the most local players\n",
    "## which team has the highest proportion of their local players on their team?\n",
    "### divide values in home_team_groupby by values in closest team\n",
    "teams_w_local_players = list(home_team_groupby.index)\n",
    "team_df_w_local_players = team_df[team_df.index.isin(teams_w_local_players)]"
   ]
  },
  {
   "cell_type": "code",
   "execution_count": 17,
   "metadata": {
    "ExecuteTime": {
     "end_time": "2021-04-30T19:05:51.905505Z",
     "start_time": "2021-04-30T19:05:51.894812Z"
    }
   },
   "outputs": [
    {
     "data": {
      "text/html": [
       "<div>\n",
       "<style scoped>\n",
       "    .dataframe tbody tr th:only-of-type {\n",
       "        vertical-align: middle;\n",
       "    }\n",
       "\n",
       "    .dataframe tbody tr th {\n",
       "        vertical-align: top;\n",
       "    }\n",
       "\n",
       "    .dataframe thead th {\n",
       "        text-align: right;\n",
       "    }\n",
       "</style>\n",
       "<table border=\"1\" class=\"dataframe\">\n",
       "  <thead>\n",
       "    <tr style=\"text-align: right;\">\n",
       "      <th></th>\n",
       "      <th>id</th>\n",
       "      <th>Total_local_players_in_NHL</th>\n",
       "      <th>Percent_of_local_players_on_team</th>\n",
       "    </tr>\n",
       "    <tr>\n",
       "      <th>team_name</th>\n",
       "      <th></th>\n",
       "      <th></th>\n",
       "      <th></th>\n",
       "    </tr>\n",
       "  </thead>\n",
       "  <tbody>\n",
       "    <tr>\n",
       "      <th>Nashville Predators</th>\n",
       "      <td>1</td>\n",
       "      <td>2</td>\n",
       "      <td>50.0</td>\n",
       "    </tr>\n",
       "    <tr>\n",
       "      <th>Columbus Blue Jackets</th>\n",
       "      <td>1</td>\n",
       "      <td>4</td>\n",
       "      <td>25.0</td>\n",
       "    </tr>\n",
       "    <tr>\n",
       "      <th>Los Angeles Kings</th>\n",
       "      <td>1</td>\n",
       "      <td>4</td>\n",
       "      <td>25.0</td>\n",
       "    </tr>\n",
       "    <tr>\n",
       "      <th>Pittsburgh Penguins</th>\n",
       "      <td>1</td>\n",
       "      <td>7</td>\n",
       "      <td>14.0</td>\n",
       "    </tr>\n",
       "    <tr>\n",
       "      <th>Boston Bruins</th>\n",
       "      <td>4</td>\n",
       "      <td>40</td>\n",
       "      <td>10.0</td>\n",
       "    </tr>\n",
       "    <tr>\n",
       "      <th>Buffalo Sabres</th>\n",
       "      <td>1</td>\n",
       "      <td>12</td>\n",
       "      <td>8.0</td>\n",
       "    </tr>\n",
       "    <tr>\n",
       "      <th>Calgary Flames</th>\n",
       "      <td>2</td>\n",
       "      <td>29</td>\n",
       "      <td>7.0</td>\n",
       "    </tr>\n",
       "    <tr>\n",
       "      <th>Minnesota Wild</th>\n",
       "      <td>3</td>\n",
       "      <td>44</td>\n",
       "      <td>7.0</td>\n",
       "    </tr>\n",
       "    <tr>\n",
       "      <th>Montréal Canadiens</th>\n",
       "      <td>3</td>\n",
       "      <td>44</td>\n",
       "      <td>7.0</td>\n",
       "    </tr>\n",
       "    <tr>\n",
       "      <th>Toronto Maple Leafs</th>\n",
       "      <td>8</td>\n",
       "      <td>113</td>\n",
       "      <td>7.0</td>\n",
       "    </tr>\n",
       "    <tr>\n",
       "      <th>Detroit Red Wings</th>\n",
       "      <td>3</td>\n",
       "      <td>57</td>\n",
       "      <td>5.0</td>\n",
       "    </tr>\n",
       "    <tr>\n",
       "      <th>Ottawa Senators</th>\n",
       "      <td>1</td>\n",
       "      <td>22</td>\n",
       "      <td>5.0</td>\n",
       "    </tr>\n",
       "    <tr>\n",
       "      <th>Vancouver Canucks</th>\n",
       "      <td>2</td>\n",
       "      <td>43</td>\n",
       "      <td>5.0</td>\n",
       "    </tr>\n",
       "    <tr>\n",
       "      <th>Edmonton Oilers</th>\n",
       "      <td>1</td>\n",
       "      <td>31</td>\n",
       "      <td>3.0</td>\n",
       "    </tr>\n",
       "  </tbody>\n",
       "</table>\n",
       "</div>"
      ],
      "text/plain": [
       "                       id  Total_local_players_in_NHL  \\\n",
       "team_name                                               \n",
       "Nashville Predators     1                           2   \n",
       "Columbus Blue Jackets   1                           4   \n",
       "Los Angeles Kings       1                           4   \n",
       "Pittsburgh Penguins     1                           7   \n",
       "Boston Bruins           4                          40   \n",
       "Buffalo Sabres          1                          12   \n",
       "Calgary Flames          2                          29   \n",
       "Minnesota Wild          3                          44   \n",
       "Montréal Canadiens      3                          44   \n",
       "Toronto Maple Leafs     8                         113   \n",
       "Detroit Red Wings       3                          57   \n",
       "Ottawa Senators         1                          22   \n",
       "Vancouver Canucks       2                          43   \n",
       "Edmonton Oilers         1                          31   \n",
       "\n",
       "                       Percent_of_local_players_on_team  \n",
       "team_name                                                \n",
       "Nashville Predators                                50.0  \n",
       "Columbus Blue Jackets                              25.0  \n",
       "Los Angeles Kings                                  25.0  \n",
       "Pittsburgh Penguins                                14.0  \n",
       "Boston Bruins                                      10.0  \n",
       "Buffalo Sabres                                      8.0  \n",
       "Calgary Flames                                      7.0  \n",
       "Minnesota Wild                                      7.0  \n",
       "Montréal Canadiens                                  7.0  \n",
       "Toronto Maple Leafs                                 7.0  \n",
       "Detroit Red Wings                                   5.0  \n",
       "Ottawa Senators                                     5.0  \n",
       "Vancouver Canucks                                   5.0  \n",
       "Edmonton Oilers                                     3.0  "
      ]
     },
     "execution_count": 17,
     "metadata": {},
     "output_type": "execute_result"
    }
   ],
   "source": [
    "home_team_groupby['Total_local_players_in_NHL'] = team_df_w_local_players\n",
    "percent_of_local_players = round(home_team_groupby['id'] / \n",
    "                                 home_team_groupby['Total_local_players_in_NHL'], 2) * 100\n",
    "home_team_groupby['Percent_of_local_players_on_team'] = percent_of_local_players\n",
    "home_team_groupby.sort_values(by='Percent_of_local_players_on_team', ascending=False)"
   ]
  },
  {
   "cell_type": "markdown",
   "metadata": {},
   "source": [
    "# How many players have their closest team being Seattle? "
   ]
  },
  {
   "cell_type": "code",
   "execution_count": 18,
   "metadata": {
    "ExecuteTime": {
     "end_time": "2021-04-30T19:05:51.912039Z",
     "start_time": "2021-04-30T19:05:51.907521Z"
    },
    "scrolled": true
   },
   "outputs": [],
   "source": [
    "# Seattle will have a new team in 2021\n",
    "# the new arena's coordinates '47.622, -122.354'\n",
    "\n",
    "# getting all players who have their closest team being in northwest\n",
    "players_from_nw = player_gdf[player_gdf['nearest_team'].isin([\n",
    "                                                             'Vancouver Canucks'])].reset_index(drop=True)"
   ]
  },
  {
   "cell_type": "code",
   "execution_count": 19,
   "metadata": {
    "ExecuteTime": {
     "end_time": "2021-04-30T19:05:51.920794Z",
     "start_time": "2021-04-30T19:05:51.914032Z"
    }
   },
   "outputs": [
    {
     "data": {
      "text/plain": [
       "2"
      ]
     },
     "execution_count": 19,
     "metadata": {},
     "output_type": "execute_result"
    }
   ],
   "source": [
    "dist_to_seattle = [haversine([float(players_from_nw['coordinates'][idx].split(\",\")[0]), \n",
    "                              float(players_from_nw['coordinates'][idx].split(\",\")[1])],\n",
    "                              [47.622, -122.354],unit=Unit.MILES) for idx in range(len(players_from_nw))]\n",
    "close_to_seattle = [x for x in dist_to_seattle if x < 60]\n",
    "# two players were born within 60 miles of seattle \n",
    "len(close_to_seattle)"
   ]
  },
  {
   "cell_type": "markdown",
   "metadata": {},
   "source": [
    "# How many players are REASONABLY close and PLAYING for their NHL team?"
   ]
  },
  {
   "cell_type": "code",
   "execution_count": 20,
   "metadata": {
    "ExecuteTime": {
     "end_time": "2021-04-30T19:05:51.927550Z",
     "start_time": "2021-04-30T19:05:51.922644Z"
    }
   },
   "outputs": [
    {
     "data": {
      "text/plain": [
       "394"
      ]
     },
     "execution_count": 20,
     "metadata": {},
     "output_type": "execute_result"
    }
   ],
   "source": [
    "# I'll define reasonably close as 60 miles away (as the crow flies)\n",
    "## 394 players are very close to A team\n",
    "very_close_players_df = player_gdf[player_gdf['haversine_distance'] < 60]\n",
    "very_close_players_df.shape[0]"
   ]
  },
  {
   "cell_type": "code",
   "execution_count": 21,
   "metadata": {
    "ExecuteTime": {
     "end_time": "2021-04-30T19:05:51.932322Z",
     "start_time": "2021-04-30T19:05:51.929223Z"
    }
   },
   "outputs": [
    {
     "data": {
      "text/plain": [
       "188"
      ]
     },
     "execution_count": 21,
     "metadata": {},
     "output_type": "execute_result"
    }
   ],
   "source": [
    "# 188 players are not reasonably close to any NHL team (in addition to the 30% of non-American players)\n",
    "all_na_players_df.shape[0] - very_close_players_df.shape[0]"
   ]
  },
  {
   "cell_type": "code",
   "execution_count": 22,
   "metadata": {
    "ExecuteTime": {
     "end_time": "2021-04-30T19:05:51.938705Z",
     "start_time": "2021-04-30T19:05:51.933942Z"
    }
   },
   "outputs": [
    {
     "data": {
      "text/plain": [
       "24"
      ]
     },
     "execution_count": 22,
     "metadata": {},
     "output_type": "execute_result"
    }
   ],
   "source": [
    "# how many players are close to THEIR team? 24\n",
    "very_close_local_players_df = player_gdf[(player_gdf['haversine_distance'] < 60) & \n",
    "                                        (player_gdf['team_name'] == player_gdf['nearest_team'])]\n",
    "very_close_local_players_df.shape[0]"
   ]
  },
  {
   "cell_type": "code",
   "execution_count": 23,
   "metadata": {
    "ExecuteTime": {
     "end_time": "2021-04-30T19:05:51.951909Z",
     "start_time": "2021-04-30T19:05:51.944246Z"
    }
   },
   "outputs": [
    {
     "data": {
      "text/html": [
       "<div>\n",
       "<style scoped>\n",
       "    .dataframe tbody tr th:only-of-type {\n",
       "        vertical-align: middle;\n",
       "    }\n",
       "\n",
       "    .dataframe tbody tr th {\n",
       "        vertical-align: top;\n",
       "    }\n",
       "\n",
       "    .dataframe thead th {\n",
       "        text-align: right;\n",
       "    }\n",
       "</style>\n",
       "<table border=\"1\" class=\"dataframe\">\n",
       "  <thead>\n",
       "    <tr style=\"text-align: right;\">\n",
       "      <th></th>\n",
       "      <th>id</th>\n",
       "    </tr>\n",
       "    <tr>\n",
       "      <th>team_name</th>\n",
       "      <th></th>\n",
       "    </tr>\n",
       "  </thead>\n",
       "  <tbody>\n",
       "    <tr>\n",
       "      <th>Toronto Maple Leafs</th>\n",
       "      <td>7</td>\n",
       "    </tr>\n",
       "    <tr>\n",
       "      <th>Boston Bruins</th>\n",
       "      <td>3</td>\n",
       "    </tr>\n",
       "    <tr>\n",
       "      <th>Minnesota Wild</th>\n",
       "      <td>3</td>\n",
       "    </tr>\n",
       "    <tr>\n",
       "      <th>Detroit Red Wings</th>\n",
       "      <td>2</td>\n",
       "    </tr>\n",
       "    <tr>\n",
       "      <th>Montréal Canadiens</th>\n",
       "      <td>2</td>\n",
       "    </tr>\n",
       "    <tr>\n",
       "      <th>Vancouver Canucks</th>\n",
       "      <td>2</td>\n",
       "    </tr>\n",
       "    <tr>\n",
       "      <th>Buffalo Sabres</th>\n",
       "      <td>1</td>\n",
       "    </tr>\n",
       "    <tr>\n",
       "      <th>Columbus Blue Jackets</th>\n",
       "      <td>1</td>\n",
       "    </tr>\n",
       "    <tr>\n",
       "      <th>Edmonton Oilers</th>\n",
       "      <td>1</td>\n",
       "    </tr>\n",
       "    <tr>\n",
       "      <th>Los Angeles Kings</th>\n",
       "      <td>1</td>\n",
       "    </tr>\n",
       "    <tr>\n",
       "      <th>Ottawa Senators</th>\n",
       "      <td>1</td>\n",
       "    </tr>\n",
       "  </tbody>\n",
       "</table>\n",
       "</div>"
      ],
      "text/plain": [
       "                       id\n",
       "team_name                \n",
       "Toronto Maple Leafs     7\n",
       "Boston Bruins           3\n",
       "Minnesota Wild          3\n",
       "Detroit Red Wings       2\n",
       "Montréal Canadiens      2\n",
       "Vancouver Canucks       2\n",
       "Buffalo Sabres          1\n",
       "Columbus Blue Jackets   1\n",
       "Edmonton Oilers         1\n",
       "Los Angeles Kings       1\n",
       "Ottawa Senators         1"
      ]
     },
     "execution_count": 23,
     "metadata": {},
     "output_type": "execute_result"
    }
   ],
   "source": [
    "# which teams have the most local players?\n",
    "very_close_groupby = pd.DataFrame(very_close_local_players_df.groupby('team_name').id.count())\n",
    "very_close_groupby.sort_values(by='id', ascending=False)"
   ]
  },
  {
   "cell_type": "markdown",
   "metadata": {},
   "source": [
    "# Which States/Provinces Have the Most Players Per Capita?"
   ]
  },
  {
   "cell_type": "markdown",
   "metadata": {},
   "source": [
    "## Engineering the Population Data"
   ]
  },
  {
   "cell_type": "markdown",
   "metadata": {},
   "source": [
    "### US"
   ]
  },
  {
   "cell_type": "code",
   "execution_count": 24,
   "metadata": {
    "ExecuteTime": {
     "end_time": "2021-04-30T19:05:52.171796Z",
     "start_time": "2021-04-30T19:05:51.955753Z"
    }
   },
   "outputs": [],
   "source": [
    "# had to read files like this b/c it is xlsx file (https://stackoverflow.com/questions/65254535/xlrd-biffh-xlrderror-excel-xlsx-file-not-supported/65255334)\n",
    "# I got the data from https://www.census.gov/data/datasets/time-series/demo/popest/2010s-state-total.html\n",
    "us_pop_df = pd.read_excel(\n",
    "    \"data/nst-est2019-01.xlsx\",\n",
    "     engine='openpyxl', skiprows=3\n",
    ")\n",
    "us_pop_df2019 = us_pop_df[['Unnamed: 0', 2019]]\n",
    "us_pop_df2019.columns = ['State_w_dot', 'Population'] # for 2019\n",
    "us_pop_df2019.drop(index= us_pop_df2019.index[56:], inplace=True)\n",
    "us_pop_df2019.drop(index= us_pop_df2019.index[:5], inplace=True)\n",
    "us_pop_df2019['stateProvince'] = [x[1:] for x in us_pop_df2019['State_w_dot']]\n",
    "us_pop_df2019['Country'] = 'USA'"
   ]
  },
  {
   "cell_type": "code",
   "execution_count": 25,
   "metadata": {
    "ExecuteTime": {
     "end_time": "2021-04-30T19:05:52.177972Z",
     "start_time": "2021-04-30T19:05:52.173406Z"
    }
   },
   "outputs": [],
   "source": [
    "# adding State Abbreviations\n",
    "# from https://worldpopulationreview.com/states/state-abbreviations\n",
    "us_abbrev = pd.read_csv(\"data/us_state_abbreviations.csv\")"
   ]
  },
  {
   "cell_type": "code",
   "execution_count": 26,
   "metadata": {
    "ExecuteTime": {
     "end_time": "2021-04-30T19:05:52.184191Z",
     "start_time": "2021-04-30T19:05:52.179394Z"
    }
   },
   "outputs": [],
   "source": [
    "# adding state abbreviations to the data \n",
    "us_pop_df2019_abbrev = pd.merge(us_pop_df2019, us_abbrev, left_on='stateProvince', right_on='State')"
   ]
  },
  {
   "cell_type": "markdown",
   "metadata": {},
   "source": [
    "### Canada"
   ]
  },
  {
   "cell_type": "code",
   "execution_count": 27,
   "metadata": {
    "ExecuteTime": {
     "end_time": "2021-04-30T19:05:52.195556Z",
     "start_time": "2021-04-30T19:05:52.185662Z"
    }
   },
   "outputs": [],
   "source": [
    "can_pop_df = pd.read_csv(\"data/1710000901-eng.csv\", skiprows=5)\n",
    "can_pop_df.drop(index= can_pop_df.index[15:], inplace=True)\n",
    "can_pop_df.drop(index= can_pop_df.index[:2], inplace=True)\n",
    "can_pop_df_2021 = can_pop_df[['Geography', 'Q1 2021']]\n",
    "can_pop_df_2021.columns = ['Geography', 'Population']\n",
    "can_pop_df_2021['Population'] = can_pop_df_2021['Population'].str.replace(',', '').astype(float)\n",
    "can_pop_df_2021['stateProvince'] = [x[:-8] if \"(map)\" in x else x for x in can_pop_df_2021['Geography']]\n",
    "can_pop_df_2021['Country'] = 'CAN'"
   ]
  },
  {
   "cell_type": "code",
   "execution_count": 28,
   "metadata": {
    "ExecuteTime": {
     "end_time": "2021-04-30T19:05:52.204133Z",
     "start_time": "2021-04-30T19:05:52.196889Z"
    }
   },
   "outputs": [],
   "source": [
    "# canadian abbreviations\n",
    "can_abbrev = pd.read_excel(\"data/CountryCAN_e.xls\")\n",
    "can_abbrev['Province'] = [x.title() for x in can_abbrev['Province or Territory Name']]"
   ]
  },
  {
   "cell_type": "code",
   "execution_count": 29,
   "metadata": {
    "ExecuteTime": {
     "end_time": "2021-04-30T19:05:52.210558Z",
     "start_time": "2021-04-30T19:05:52.205701Z"
    }
   },
   "outputs": [],
   "source": [
    "# merging the two\n",
    "can_pop_df_2021_abbrev = pd.merge(can_pop_df_2021, can_abbrev, left_on='stateProvince', right_on='Province')"
   ]
  },
  {
   "cell_type": "markdown",
   "metadata": {},
   "source": [
    "### Merging the US and Canada Population data"
   ]
  },
  {
   "cell_type": "code",
   "execution_count": 30,
   "metadata": {
    "ExecuteTime": {
     "end_time": "2021-04-30T19:05:52.216745Z",
     "start_time": "2021-04-30T19:05:52.212062Z"
    }
   },
   "outputs": [],
   "source": [
    "us_can_pop_df_full = pd.concat([us_pop_df2019_abbrev, can_pop_df_2021_abbrev])"
   ]
  },
  {
   "cell_type": "code",
   "execution_count": 31,
   "metadata": {
    "ExecuteTime": {
     "end_time": "2021-04-30T19:05:52.221860Z",
     "start_time": "2021-04-30T19:05:52.218291Z"
    }
   },
   "outputs": [],
   "source": [
    "us_can_pop_df = us_can_pop_df_full[['Population', 'stateProvince', 'Code', 'Country']]"
   ]
  },
  {
   "cell_type": "markdown",
   "metadata": {},
   "source": [
    "## Combining with the Player Data"
   ]
  },
  {
   "cell_type": "code",
   "execution_count": 32,
   "metadata": {
    "ExecuteTime": {
     "end_time": "2021-04-30T19:05:52.226953Z",
     "start_time": "2021-04-30T19:05:52.223376Z"
    }
   },
   "outputs": [],
   "source": [
    "player_province_data = pd.DataFrame(player_gdf.groupby('birthStateProvince').id.count())"
   ]
  },
  {
   "cell_type": "code",
   "execution_count": 33,
   "metadata": {
    "ExecuteTime": {
     "end_time": "2021-04-30T19:05:52.232688Z",
     "start_time": "2021-04-30T19:05:52.228462Z"
    }
   },
   "outputs": [],
   "source": [
    "us_can_player_pop_df = pd.merge(us_can_pop_df, player_province_data, \n",
    "                                left_on=['Code'], right_on=['birthStateProvince'])"
   ]
  },
  {
   "cell_type": "code",
   "execution_count": 34,
   "metadata": {
    "ExecuteTime": {
     "end_time": "2021-04-30T19:05:52.236974Z",
     "start_time": "2021-04-30T19:05:52.234331Z"
    }
   },
   "outputs": [],
   "source": [
    "us_can_player_pop_df.columns = ['Population', 'stateProvince', 'Code', 'Country', 'NHL_players']"
   ]
  },
  {
   "cell_type": "code",
   "execution_count": 35,
   "metadata": {
    "ExecuteTime": {
     "end_time": "2021-04-30T19:05:52.242445Z",
     "start_time": "2021-04-30T19:05:52.238541Z"
    }
   },
   "outputs": [],
   "source": [
    "# standardizing how many players there are per 100k inhabitants\n",
    "us_can_player_pop_df['Players_100k_people'] = round((us_can_player_pop_df['NHL_players'] / us_can_player_pop_df['Population']) * 100000, 2) "
   ]
  },
  {
   "cell_type": "markdown",
   "metadata": {},
   "source": [
    "## Analyzing Players Per Capita"
   ]
  },
  {
   "cell_type": "code",
   "execution_count": 36,
   "metadata": {
    "ExecuteTime": {
     "end_time": "2021-04-30T19:05:52.248255Z",
     "start_time": "2021-04-30T19:05:52.243948Z"
    }
   },
   "outputs": [
    {
     "data": {
      "text/plain": [
       "(41, 6)"
      ]
     },
     "execution_count": 36,
     "metadata": {},
     "output_type": "execute_result"
    }
   ],
   "source": [
    "# keeping only the 41 states and provinces with players\n",
    "us_can_player_pop_df.sort_values(by='Players_100k_people', ascending=False, inplace=True)\n",
    "us_can_player_pop_df.shape"
   ]
  },
  {
   "cell_type": "code",
   "execution_count": 37,
   "metadata": {
    "ExecuteTime": {
     "end_time": "2021-04-30T19:05:52.266889Z",
     "start_time": "2021-04-30T19:05:52.250005Z"
    }
   },
   "outputs": [
    {
     "data": {
      "text/html": [
       "<div>\n",
       "<style scoped>\n",
       "    .dataframe tbody tr th:only-of-type {\n",
       "        vertical-align: middle;\n",
       "    }\n",
       "\n",
       "    .dataframe tbody tr th {\n",
       "        vertical-align: top;\n",
       "    }\n",
       "\n",
       "    .dataframe thead th {\n",
       "        text-align: right;\n",
       "    }\n",
       "</style>\n",
       "<table border=\"1\" class=\"dataframe\">\n",
       "  <thead>\n",
       "    <tr style=\"text-align: right;\">\n",
       "      <th></th>\n",
       "      <th>Population</th>\n",
       "      <th>stateProvince</th>\n",
       "      <th>Code</th>\n",
       "      <th>Country</th>\n",
       "      <th>NHL_players</th>\n",
       "      <th>Players_100k_people</th>\n",
       "    </tr>\n",
       "  </thead>\n",
       "  <tbody>\n",
       "    <tr>\n",
       "      <th>14</th>\n",
       "      <td>5639632.0</td>\n",
       "      <td>Minnesota</td>\n",
       "      <td>MN</td>\n",
       "      <td>USA</td>\n",
       "      <td>34</td>\n",
       "      <td>0.60</td>\n",
       "    </tr>\n",
       "    <tr>\n",
       "      <th>13</th>\n",
       "      <td>9986857.0</td>\n",
       "      <td>Michigan</td>\n",
       "      <td>MI</td>\n",
       "      <td>USA</td>\n",
       "      <td>34</td>\n",
       "      <td>0.34</td>\n",
       "    </tr>\n",
       "    <tr>\n",
       "      <th>12</th>\n",
       "      <td>6892503.0</td>\n",
       "      <td>Massachusetts</td>\n",
       "      <td>MA</td>\n",
       "      <td>USA</td>\n",
       "      <td>23</td>\n",
       "      <td>0.33</td>\n",
       "    </tr>\n",
       "    <tr>\n",
       "      <th>31</th>\n",
       "      <td>5822434.0</td>\n",
       "      <td>Wisconsin</td>\n",
       "      <td>WI</td>\n",
       "      <td>USA</td>\n",
       "      <td>11</td>\n",
       "      <td>0.19</td>\n",
       "    </tr>\n",
       "    <tr>\n",
       "      <th>10</th>\n",
       "      <td>1344212.0</td>\n",
       "      <td>Maine</td>\n",
       "      <td>ME</td>\n",
       "      <td>USA</td>\n",
       "      <td>2</td>\n",
       "      <td>0.15</td>\n",
       "    </tr>\n",
       "    <tr>\n",
       "      <th>1</th>\n",
       "      <td>731545.0</td>\n",
       "      <td>Alaska</td>\n",
       "      <td>AK</td>\n",
       "      <td>USA</td>\n",
       "      <td>1</td>\n",
       "      <td>0.14</td>\n",
       "    </tr>\n",
       "    <tr>\n",
       "      <th>5</th>\n",
       "      <td>3565287.0</td>\n",
       "      <td>Connecticut</td>\n",
       "      <td>CT</td>\n",
       "      <td>USA</td>\n",
       "      <td>5</td>\n",
       "      <td>0.14</td>\n",
       "    </tr>\n",
       "    <tr>\n",
       "      <th>21</th>\n",
       "      <td>762062.0</td>\n",
       "      <td>North Dakota</td>\n",
       "      <td>ND</td>\n",
       "      <td>USA</td>\n",
       "      <td>1</td>\n",
       "      <td>0.13</td>\n",
       "    </tr>\n",
       "    <tr>\n",
       "      <th>20</th>\n",
       "      <td>19453561.0</td>\n",
       "      <td>New York</td>\n",
       "      <td>NY</td>\n",
       "      <td>USA</td>\n",
       "      <td>25</td>\n",
       "      <td>0.13</td>\n",
       "    </tr>\n",
       "    <tr>\n",
       "      <th>19</th>\n",
       "      <td>8882190.0</td>\n",
       "      <td>New Jersey</td>\n",
       "      <td>NJ</td>\n",
       "      <td>USA</td>\n",
       "      <td>10</td>\n",
       "      <td>0.11</td>\n",
       "    </tr>\n",
       "    <tr>\n",
       "      <th>9</th>\n",
       "      <td>3155070.0</td>\n",
       "      <td>Iowa</td>\n",
       "      <td>IA</td>\n",
       "      <td>USA</td>\n",
       "      <td>3</td>\n",
       "      <td>0.10</td>\n",
       "    </tr>\n",
       "    <tr>\n",
       "      <th>17</th>\n",
       "      <td>1934408.0</td>\n",
       "      <td>Nebraska</td>\n",
       "      <td>NE</td>\n",
       "      <td>USA</td>\n",
       "      <td>2</td>\n",
       "      <td>0.10</td>\n",
       "    </tr>\n",
       "    <tr>\n",
       "      <th>4</th>\n",
       "      <td>5758736.0</td>\n",
       "      <td>Colorado</td>\n",
       "      <td>CO</td>\n",
       "      <td>USA</td>\n",
       "      <td>6</td>\n",
       "      <td>0.10</td>\n",
       "    </tr>\n",
       "    <tr>\n",
       "      <th>7</th>\n",
       "      <td>12671821.0</td>\n",
       "      <td>Illinois</td>\n",
       "      <td>IL</td>\n",
       "      <td>USA</td>\n",
       "      <td>13</td>\n",
       "      <td>0.10</td>\n",
       "    </tr>\n",
       "    <tr>\n",
       "      <th>26</th>\n",
       "      <td>1059361.0</td>\n",
       "      <td>Rhode Island</td>\n",
       "      <td>RI</td>\n",
       "      <td>USA</td>\n",
       "      <td>1</td>\n",
       "      <td>0.09</td>\n",
       "    </tr>\n",
       "    <tr>\n",
       "      <th>16</th>\n",
       "      <td>6137428.0</td>\n",
       "      <td>Missouri</td>\n",
       "      <td>MO</td>\n",
       "      <td>USA</td>\n",
       "      <td>5</td>\n",
       "      <td>0.08</td>\n",
       "    </tr>\n",
       "    <tr>\n",
       "      <th>18</th>\n",
       "      <td>1359711.0</td>\n",
       "      <td>New Hampshire</td>\n",
       "      <td>NH</td>\n",
       "      <td>USA</td>\n",
       "      <td>1</td>\n",
       "      <td>0.07</td>\n",
       "    </tr>\n",
       "    <tr>\n",
       "      <th>30</th>\n",
       "      <td>7614893.0</td>\n",
       "      <td>Washington</td>\n",
       "      <td>WA</td>\n",
       "      <td>USA</td>\n",
       "      <td>5</td>\n",
       "      <td>0.07</td>\n",
       "    </tr>\n",
       "    <tr>\n",
       "      <th>22</th>\n",
       "      <td>11689100.0</td>\n",
       "      <td>Ohio</td>\n",
       "      <td>OH</td>\n",
       "      <td>USA</td>\n",
       "      <td>7</td>\n",
       "      <td>0.06</td>\n",
       "    </tr>\n",
       "    <tr>\n",
       "      <th>2</th>\n",
       "      <td>7278717.0</td>\n",
       "      <td>Arizona</td>\n",
       "      <td>AZ</td>\n",
       "      <td>USA</td>\n",
       "      <td>4</td>\n",
       "      <td>0.05</td>\n",
       "    </tr>\n",
       "    <tr>\n",
       "      <th>25</th>\n",
       "      <td>12801989.0</td>\n",
       "      <td>Pennsylvania</td>\n",
       "      <td>PA</td>\n",
       "      <td>USA</td>\n",
       "      <td>6</td>\n",
       "      <td>0.05</td>\n",
       "    </tr>\n",
       "    <tr>\n",
       "      <th>3</th>\n",
       "      <td>39512223.0</td>\n",
       "      <td>California</td>\n",
       "      <td>CA</td>\n",
       "      <td>USA</td>\n",
       "      <td>10</td>\n",
       "      <td>0.03</td>\n",
       "    </tr>\n",
       "    <tr>\n",
       "      <th>29</th>\n",
       "      <td>3205958.0</td>\n",
       "      <td>Utah</td>\n",
       "      <td>UT</td>\n",
       "      <td>USA</td>\n",
       "      <td>1</td>\n",
       "      <td>0.03</td>\n",
       "    </tr>\n",
       "    <tr>\n",
       "      <th>15</th>\n",
       "      <td>2976149.0</td>\n",
       "      <td>Mississippi</td>\n",
       "      <td>MS</td>\n",
       "      <td>USA</td>\n",
       "      <td>1</td>\n",
       "      <td>0.03</td>\n",
       "    </tr>\n",
       "    <tr>\n",
       "      <th>23</th>\n",
       "      <td>3956971.0</td>\n",
       "      <td>Oklahoma</td>\n",
       "      <td>OK</td>\n",
       "      <td>USA</td>\n",
       "      <td>1</td>\n",
       "      <td>0.03</td>\n",
       "    </tr>\n",
       "    <tr>\n",
       "      <th>11</th>\n",
       "      <td>6045680.0</td>\n",
       "      <td>Maryland</td>\n",
       "      <td>MD</td>\n",
       "      <td>USA</td>\n",
       "      <td>1</td>\n",
       "      <td>0.02</td>\n",
       "    </tr>\n",
       "    <tr>\n",
       "      <th>28</th>\n",
       "      <td>28995881.0</td>\n",
       "      <td>Texas</td>\n",
       "      <td>TX</td>\n",
       "      <td>USA</td>\n",
       "      <td>5</td>\n",
       "      <td>0.02</td>\n",
       "    </tr>\n",
       "    <tr>\n",
       "      <th>6</th>\n",
       "      <td>21477737.0</td>\n",
       "      <td>Florida</td>\n",
       "      <td>FL</td>\n",
       "      <td>USA</td>\n",
       "      <td>4</td>\n",
       "      <td>0.02</td>\n",
       "    </tr>\n",
       "    <tr>\n",
       "      <th>27</th>\n",
       "      <td>5148714.0</td>\n",
       "      <td>South Carolina</td>\n",
       "      <td>SC</td>\n",
       "      <td>USA</td>\n",
       "      <td>1</td>\n",
       "      <td>0.02</td>\n",
       "    </tr>\n",
       "    <tr>\n",
       "      <th>24</th>\n",
       "      <td>4217737.0</td>\n",
       "      <td>Oregon</td>\n",
       "      <td>OR</td>\n",
       "      <td>USA</td>\n",
       "      <td>1</td>\n",
       "      <td>0.02</td>\n",
       "    </tr>\n",
       "    <tr>\n",
       "      <th>0</th>\n",
       "      <td>4903185.0</td>\n",
       "      <td>Alabama</td>\n",
       "      <td>AL</td>\n",
       "      <td>USA</td>\n",
       "      <td>1</td>\n",
       "      <td>0.02</td>\n",
       "    </tr>\n",
       "    <tr>\n",
       "      <th>8</th>\n",
       "      <td>6732219.0</td>\n",
       "      <td>Indiana</td>\n",
       "      <td>IN</td>\n",
       "      <td>USA</td>\n",
       "      <td>1</td>\n",
       "      <td>0.01</td>\n",
       "    </tr>\n",
       "  </tbody>\n",
       "</table>\n",
       "</div>"
      ],
      "text/plain": [
       "    Population   stateProvince Code Country  NHL_players  Players_100k_people\n",
       "14   5639632.0       Minnesota   MN     USA           34                 0.60\n",
       "13   9986857.0        Michigan   MI     USA           34                 0.34\n",
       "12   6892503.0   Massachusetts   MA     USA           23                 0.33\n",
       "31   5822434.0       Wisconsin   WI     USA           11                 0.19\n",
       "10   1344212.0           Maine   ME     USA            2                 0.15\n",
       "1     731545.0          Alaska   AK     USA            1                 0.14\n",
       "5    3565287.0     Connecticut   CT     USA            5                 0.14\n",
       "21    762062.0    North Dakota   ND     USA            1                 0.13\n",
       "20  19453561.0        New York   NY     USA           25                 0.13\n",
       "19   8882190.0      New Jersey   NJ     USA           10                 0.11\n",
       "9    3155070.0            Iowa   IA     USA            3                 0.10\n",
       "17   1934408.0        Nebraska   NE     USA            2                 0.10\n",
       "4    5758736.0        Colorado   CO     USA            6                 0.10\n",
       "7   12671821.0        Illinois   IL     USA           13                 0.10\n",
       "26   1059361.0    Rhode Island   RI     USA            1                 0.09\n",
       "16   6137428.0        Missouri   MO     USA            5                 0.08\n",
       "18   1359711.0   New Hampshire   NH     USA            1                 0.07\n",
       "30   7614893.0      Washington   WA     USA            5                 0.07\n",
       "22  11689100.0            Ohio   OH     USA            7                 0.06\n",
       "2    7278717.0         Arizona   AZ     USA            4                 0.05\n",
       "25  12801989.0    Pennsylvania   PA     USA            6                 0.05\n",
       "3   39512223.0      California   CA     USA           10                 0.03\n",
       "29   3205958.0            Utah   UT     USA            1                 0.03\n",
       "15   2976149.0     Mississippi   MS     USA            1                 0.03\n",
       "23   3956971.0        Oklahoma   OK     USA            1                 0.03\n",
       "11   6045680.0        Maryland   MD     USA            1                 0.02\n",
       "28  28995881.0           Texas   TX     USA            5                 0.02\n",
       "6   21477737.0         Florida   FL     USA            4                 0.02\n",
       "27   5148714.0  South Carolina   SC     USA            1                 0.02\n",
       "24   4217737.0          Oregon   OR     USA            1                 0.02\n",
       "0    4903185.0         Alabama   AL     USA            1                 0.02\n",
       "8    6732219.0         Indiana   IN     USA            1                 0.01"
      ]
     },
     "execution_count": 37,
     "metadata": {},
     "output_type": "execute_result"
    }
   ],
   "source": [
    "us_can_player_pop_df[us_can_player_pop_df['Country']=='USA']"
   ]
  },
  {
   "cell_type": "code",
   "execution_count": 38,
   "metadata": {
    "ExecuteTime": {
     "end_time": "2021-04-30T19:05:52.535515Z",
     "start_time": "2021-04-30T19:05:52.268783Z"
    }
   },
   "outputs": [
    {
     "data": {
      "text/plain": [
       "<AxesSubplot:xlabel='Players_100k_people', ylabel='Code'>"
      ]
     },
     "execution_count": 38,
     "metadata": {},
     "output_type": "execute_result"
    },
    {
     "data": {
      "image/png": "[encoded data removed]",
      "text/plain": [
       "<Figure size 432x288 with 1 Axes>"
      ]
     },
     "metadata": {
      "needs_background": "light"
     },
     "output_type": "display_data"
    }
   ],
   "source": [
    "# plotting all states. Big disparity here!\n",
    "sns.scatterplot(x = us_can_player_pop_df['Players_100k_people'], y = us_can_player_pop_df['Code'])"
   ]
  },
  {
   "cell_type": "code",
   "execution_count": 39,
   "metadata": {
    "ExecuteTime": {
     "end_time": "2021-04-30T19:05:52.548063Z",
     "start_time": "2021-04-30T19:05:52.537185Z"
    }
   },
   "outputs": [
    {
     "data": {
      "text/html": [
       "<div>\n",
       "<style scoped>\n",
       "    .dataframe tbody tr th:only-of-type {\n",
       "        vertical-align: middle;\n",
       "    }\n",
       "\n",
       "    .dataframe tbody tr th {\n",
       "        vertical-align: top;\n",
       "    }\n",
       "\n",
       "    .dataframe thead th {\n",
       "        text-align: right;\n",
       "    }\n",
       "</style>\n",
       "<table border=\"1\" class=\"dataframe\">\n",
       "  <thead>\n",
       "    <tr style=\"text-align: right;\">\n",
       "      <th></th>\n",
       "      <th>Population</th>\n",
       "      <th>stateProvince</th>\n",
       "      <th>Code</th>\n",
       "      <th>Country</th>\n",
       "      <th>NHL_players</th>\n",
       "      <th>Players_100k_people</th>\n",
       "    </tr>\n",
       "  </thead>\n",
       "  <tbody>\n",
       "    <tr>\n",
       "      <th>38</th>\n",
       "      <td>1178832.0</td>\n",
       "      <td>Saskatchewan</td>\n",
       "      <td>SK</td>\n",
       "      <td>CAN</td>\n",
       "      <td>26</td>\n",
       "      <td>2.21</td>\n",
       "    </tr>\n",
       "    <tr>\n",
       "      <th>32</th>\n",
       "      <td>159819.0</td>\n",
       "      <td>Prince Edward Island</td>\n",
       "      <td>PE</td>\n",
       "      <td>CAN</td>\n",
       "      <td>3</td>\n",
       "      <td>1.88</td>\n",
       "    </tr>\n",
       "    <tr>\n",
       "      <th>37</th>\n",
       "      <td>1380935.0</td>\n",
       "      <td>Manitoba</td>\n",
       "      <td>MB</td>\n",
       "      <td>CAN</td>\n",
       "      <td>21</td>\n",
       "      <td>1.52</td>\n",
       "    </tr>\n",
       "    <tr>\n",
       "      <th>36</th>\n",
       "      <td>14755211.0</td>\n",
       "      <td>Ontario</td>\n",
       "      <td>ON</td>\n",
       "      <td>CAN</td>\n",
       "      <td>164</td>\n",
       "      <td>1.11</td>\n",
       "    </tr>\n",
       "    <tr>\n",
       "      <th>39</th>\n",
       "      <td>4436258.0</td>\n",
       "      <td>Alberta</td>\n",
       "      <td>AB</td>\n",
       "      <td>CAN</td>\n",
       "      <td>43</td>\n",
       "      <td>0.97</td>\n",
       "    </tr>\n",
       "    <tr>\n",
       "      <th>40</th>\n",
       "      <td>5153039.0</td>\n",
       "      <td>British Columbia</td>\n",
       "      <td>BC</td>\n",
       "      <td>CAN</td>\n",
       "      <td>41</td>\n",
       "      <td>0.80</td>\n",
       "    </tr>\n",
       "    <tr>\n",
       "      <th>33</th>\n",
       "      <td>979449.0</td>\n",
       "      <td>Nova Scotia</td>\n",
       "      <td>NS</td>\n",
       "      <td>CAN</td>\n",
       "      <td>6</td>\n",
       "      <td>0.61</td>\n",
       "    </tr>\n",
       "    <tr>\n",
       "      <th>35</th>\n",
       "      <td>8575944.0</td>\n",
       "      <td>Quebec</td>\n",
       "      <td>QC</td>\n",
       "      <td>CAN</td>\n",
       "      <td>48</td>\n",
       "      <td>0.56</td>\n",
       "    </tr>\n",
       "    <tr>\n",
       "      <th>34</th>\n",
       "      <td>782078.0</td>\n",
       "      <td>New Brunswick</td>\n",
       "      <td>NB</td>\n",
       "      <td>CAN</td>\n",
       "      <td>3</td>\n",
       "      <td>0.38</td>\n",
       "    </tr>\n",
       "  </tbody>\n",
       "</table>\n",
       "</div>"
      ],
      "text/plain": [
       "    Population         stateProvince Code Country  NHL_players  \\\n",
       "38   1178832.0          Saskatchewan   SK     CAN           26   \n",
       "32    159819.0  Prince Edward Island   PE     CAN            3   \n",
       "37   1380935.0              Manitoba   MB     CAN           21   \n",
       "36  14755211.0               Ontario   ON     CAN          164   \n",
       "39   4436258.0               Alberta   AB     CAN           43   \n",
       "40   5153039.0      British Columbia   BC     CAN           41   \n",
       "33    979449.0           Nova Scotia   NS     CAN            6   \n",
       "35   8575944.0                Quebec   QC     CAN           48   \n",
       "34    782078.0         New Brunswick   NB     CAN            3   \n",
       "\n",
       "    Players_100k_people  \n",
       "38                 2.21  \n",
       "32                 1.88  \n",
       "37                 1.52  \n",
       "36                 1.11  \n",
       "39                 0.97  \n",
       "40                 0.80  \n",
       "33                 0.61  \n",
       "35                 0.56  \n",
       "34                 0.38  "
      ]
     },
     "execution_count": 39,
     "metadata": {},
     "output_type": "execute_result"
    }
   ],
   "source": [
    "# Canadian provinces\n",
    "us_can_player_pop_df[us_can_player_pop_df['Country'] == 'CAN']"
   ]
  },
  {
   "cell_type": "code",
   "execution_count": 40,
   "metadata": {
    "ExecuteTime": {
     "end_time": "2021-04-30T19:05:52.552794Z",
     "start_time": "2021-04-30T19:05:52.549933Z"
    }
   },
   "outputs": [],
   "source": [
    "# Plotting the top 20 states/provinces\n",
    "top20_us_can_player_pop_df = us_can_player_pop_df.iloc[0:20].reset_index(drop=True)"
   ]
  },
  {
   "cell_type": "code",
   "execution_count": 41,
   "metadata": {
    "ExecuteTime": {
     "end_time": "2021-04-30T19:05:52.563211Z",
     "start_time": "2021-04-30T19:05:52.554711Z"
    },
    "scrolled": true
   },
   "outputs": [
    {
     "data": {
      "text/html": [
       "<div>\n",
       "<style scoped>\n",
       "    .dataframe tbody tr th:only-of-type {\n",
       "        vertical-align: middle;\n",
       "    }\n",
       "\n",
       "    .dataframe tbody tr th {\n",
       "        vertical-align: top;\n",
       "    }\n",
       "\n",
       "    .dataframe thead th {\n",
       "        text-align: right;\n",
       "    }\n",
       "</style>\n",
       "<table border=\"1\" class=\"dataframe\">\n",
       "  <thead>\n",
       "    <tr style=\"text-align: right;\">\n",
       "      <th></th>\n",
       "      <th>Population</th>\n",
       "      <th>stateProvince</th>\n",
       "      <th>Code</th>\n",
       "      <th>Country</th>\n",
       "      <th>NHL_players</th>\n",
       "      <th>Players_100k_people</th>\n",
       "    </tr>\n",
       "  </thead>\n",
       "  <tbody>\n",
       "    <tr>\n",
       "      <th>0</th>\n",
       "      <td>1178832.0</td>\n",
       "      <td>Saskatchewan</td>\n",
       "      <td>SK</td>\n",
       "      <td>CAN</td>\n",
       "      <td>26</td>\n",
       "      <td>2.21</td>\n",
       "    </tr>\n",
       "    <tr>\n",
       "      <th>1</th>\n",
       "      <td>159819.0</td>\n",
       "      <td>Prince Edward Island</td>\n",
       "      <td>PE</td>\n",
       "      <td>CAN</td>\n",
       "      <td>3</td>\n",
       "      <td>1.88</td>\n",
       "    </tr>\n",
       "    <tr>\n",
       "      <th>2</th>\n",
       "      <td>1380935.0</td>\n",
       "      <td>Manitoba</td>\n",
       "      <td>MB</td>\n",
       "      <td>CAN</td>\n",
       "      <td>21</td>\n",
       "      <td>1.52</td>\n",
       "    </tr>\n",
       "    <tr>\n",
       "      <th>3</th>\n",
       "      <td>14755211.0</td>\n",
       "      <td>Ontario</td>\n",
       "      <td>ON</td>\n",
       "      <td>CAN</td>\n",
       "      <td>164</td>\n",
       "      <td>1.11</td>\n",
       "    </tr>\n",
       "    <tr>\n",
       "      <th>4</th>\n",
       "      <td>4436258.0</td>\n",
       "      <td>Alberta</td>\n",
       "      <td>AB</td>\n",
       "      <td>CAN</td>\n",
       "      <td>43</td>\n",
       "      <td>0.97</td>\n",
       "    </tr>\n",
       "  </tbody>\n",
       "</table>\n",
       "</div>"
      ],
      "text/plain": [
       "   Population         stateProvince Code Country  NHL_players  \\\n",
       "0   1178832.0          Saskatchewan   SK     CAN           26   \n",
       "1    159819.0  Prince Edward Island   PE     CAN            3   \n",
       "2   1380935.0              Manitoba   MB     CAN           21   \n",
       "3  14755211.0               Ontario   ON     CAN          164   \n",
       "4   4436258.0               Alberta   AB     CAN           43   \n",
       "\n",
       "   Players_100k_people  \n",
       "0                 2.21  \n",
       "1                 1.88  \n",
       "2                 1.52  \n",
       "3                 1.11  \n",
       "4                 0.97  "
      ]
     },
     "execution_count": 41,
     "metadata": {},
     "output_type": "execute_result"
    }
   ],
   "source": [
    "top20_us_can_player_pop_df.head()"
   ]
  },
  {
   "cell_type": "code",
   "execution_count": 42,
   "metadata": {
    "ExecuteTime": {
     "end_time": "2021-04-30T19:05:52.568833Z",
     "start_time": "2021-04-30T19:05:52.564720Z"
    },
    "scrolled": true
   },
   "outputs": [
    {
     "data": {
      "text/plain": [
       "17.0"
      ]
     },
     "execution_count": 42,
     "metadata": {},
     "output_type": "execute_result"
    }
   ],
   "source": [
    "# The average Saskatchewanian is 17 times more likely to play in the nhl than the average New Yorker\n",
    "top20_us_can_player_pop_df['Players_100k_people'][0] / top20_us_can_player_pop_df['Players_100k_people'][17]"
   ]
  },
  {
   "cell_type": "code",
   "execution_count": 43,
   "metadata": {
    "ExecuteTime": {
     "end_time": "2021-04-30T19:05:52.758469Z",
     "start_time": "2021-04-30T19:05:52.570691Z"
    },
    "scrolled": true
   },
   "outputs": [
    {
     "data": {
      "text/plain": [
       "Text(0.5, 1.0, 'Number of NHL Players per 100,000 People in US and Canadian States and Provinces')"
      ]
     },
     "execution_count": 43,
     "metadata": {},
     "output_type": "execute_result"
    },
    {
     "data": {
      "image/png": "[encoded data removed]",
      "text/plain": [
       "<Figure size 432x288 with 1 Axes>"
      ]
     },
     "metadata": {
      "needs_background": "light"
     },
     "output_type": "display_data"
    }
   ],
   "source": [
    "# viewing the top 20 states/provinces\n",
    "ax = sns.scatterplot(x = top20_us_can_player_pop_df['Players_100k_people'], y = top20_us_can_player_pop_df['Code'])\n",
    "ax.set_title(\"Number of NHL Players per 100,000 People in US and Canadian States and Provinces\")"
   ]
  },
  {
   "cell_type": "markdown",
   "metadata": {},
   "source": [
    "## Analyzing the distribution of NHL Players per Capita"
   ]
  },
  {
   "cell_type": "code",
   "execution_count": 44,
   "metadata": {
    "ExecuteTime": {
     "end_time": "2021-04-30T19:05:53.278581Z",
     "start_time": "2021-04-30T19:05:52.760859Z"
    }
   },
   "outputs": [
    {
     "name": "stdout",
     "output_type": "stream",
     "text": [
      "p value for weibull_min = 0.0006155886527747789\n",
      "p value for norm = 0.0003441041288074239\n",
      "p value for weibull_max = 0.0007239539168466536\n",
      "p value for beta = 0.006494879364701278\n",
      "p value for invgauss = 0.8550894596715332\n",
      "p value for uniform = 4.961625710643186e-16\n",
      "p value for gamma = 0.10365328927532713\n",
      "p value for expon = 0.00021942200875079275\n",
      "p value for lognorm = 0.8518505142812023\n",
      "p value for pearson3 = 0.5150354604868983\n",
      "p value for triang = 8.26193540665083e-13\n",
      "Best fitting distribution: invgauss\n",
      "Best p value: 0.8550894596715332\n",
      "Parameters for the best fit: (5.636388891321917, 0.002293259196406607, 0.05766458281271529)\n"
     ]
    },
    {
     "data": {
      "text/plain": [
       "('invgauss',\n",
       " 0.8550894596715332,\n",
       " (5.636388891321917, 0.002293259196406607, 0.05766458281271529))"
      ]
     },
     "execution_count": 44,
     "metadata": {},
     "output_type": "execute_result"
    }
   ],
   "source": [
    "# all of the players per capita data\n",
    "get_best_distribution(us_can_player_pop_df['Players_100k_people'])"
   ]
  },
  {
   "cell_type": "code",
   "execution_count": 45,
   "metadata": {
    "ExecuteTime": {
     "end_time": "2021-04-30T19:05:53.843740Z",
     "start_time": "2021-04-30T19:05:53.280364Z"
    }
   },
   "outputs": [
    {
     "name": "stdout",
     "output_type": "stream",
     "text": [
      "p value for weibull_min = 0.6434388671862814\n",
      "p value for norm = 0.3158559878167717\n",
      "p value for weibull_max = 0.0002068159679842505\n",
      "p value for beta = 0.26623912733292643\n",
      "p value for invgauss = 0.4229777197426261\n",
      "p value for uniform = 0.00023165876957990554\n",
      "p value for gamma = 0.24080337852533684\n",
      "p value for expon = 0.11516811073786781\n",
      "p value for lognorm = 0.6985241904260874\n",
      "p value for pearson3 = 0.3383548661674437\n",
      "p value for triang = 0.023467949521417397\n",
      "Best fitting distribution: lognorm\n",
      "Best p value: 0.6985241904260874\n",
      "Parameters for the best fit: (1.7555309074414027, 0.0969599860502845, 0.1862536300672426)\n"
     ]
    },
    {
     "data": {
      "text/plain": [
       "('lognorm',\n",
       " 0.6985241904260874,\n",
       " (1.7555309074414027, 0.0969599860502845, 0.1862536300672426))"
      ]
     },
     "execution_count": 45,
     "metadata": {},
     "output_type": "execute_result"
    }
   ],
   "source": [
    "# the top 20 players per capita states/provinces\n",
    "get_best_distribution(top20_us_can_player_pop_df['Players_100k_people'])"
   ]
  },
  {
   "cell_type": "markdown",
   "metadata": {},
   "source": [
    "### Plotting the distributions"
   ]
  },
  {
   "cell_type": "code",
   "execution_count": 46,
   "metadata": {
    "ExecuteTime": {
     "end_time": "2021-04-30T19:05:53.965631Z",
     "start_time": "2021-04-30T19:05:53.845641Z"
    }
   },
   "outputs": [
    {
     "data": {
      "image/png": "[encoded data removed]",
      "text/plain": [
       "<Figure size 432x288 with 1 Axes>"
      ]
     },
     "metadata": {
      "needs_background": "light"
     },
     "output_type": "display_data"
    }
   ],
   "source": [
    "st.probplot(top20_us_can_player_pop_df['Players_100k_people'], dist=st.lognorm(0.69), plot=pylab)\n",
    "pylab.show()"
   ]
  },
  {
   "cell_type": "markdown",
   "metadata": {},
   "source": [
    "# Mapping states by Players per capita"
   ]
  },
  {
   "cell_type": "code",
   "execution_count": 3,
   "metadata": {
    "ExecuteTime": {
     "end_time": "2021-05-03T20:45:20.101501Z",
     "start_time": "2021-05-03T20:45:19.877304Z"
    }
   },
   "outputs": [],
   "source": [
    "n_am_gdf = gpd.read_file(\"data/Political_Boundaries_(Area)/Political_Boundaries_(Area).shp\")"
   ]
  },
  {
   "cell_type": "code",
   "execution_count": 48,
   "metadata": {
    "ExecuteTime": {
     "end_time": "2021-04-30T19:05:54.561157Z",
     "start_time": "2021-04-30T19:05:54.153417Z"
    }
   },
   "outputs": [],
   "source": [
    "us_can_gdf = n_am_gdf[n_am_gdf['COUNTRY'].isin(['CAN', 'USA'])]\n",
    "us_can_gdf_dissolved = us_can_gdf.dissolve('NAME')\n",
    "us_can_gdf_dissolved2 = us_can_gdf_dissolved[us_can_gdf_dissolved.STATEABB.notnull()]\n",
    "\n",
    "us_can_gdf_dissolved2['ABB'] = [x[-2:] for x in us_can_gdf_dissolved2['STATEABB']]\n",
    "\n",
    "us_can_gdf_dissolved3 = pd.merge(us_can_gdf_dissolved2, us_can_player_pop_df, left_on='ABB', right_on='Code')"
   ]
  },
  {
   "cell_type": "markdown",
   "metadata": {},
   "source": [
    "## Choropleth"
   ]
  },
  {
   "cell_type": "code",
   "execution_count": 49,
   "metadata": {
    "ExecuteTime": {
     "end_time": "2021-04-30T19:05:54.874564Z",
     "start_time": "2021-04-30T19:05:54.563033Z"
    },
    "scrolled": true
   },
   "outputs": [
    {
     "data": {
      "text/plain": [
       "<AxesSubplot:>"
      ]
     },
     "execution_count": 49,
     "metadata": {},
     "output_type": "execute_result"
    },
    {
     "data": {
      "image/png": "[encoded data removed]",
      "text/plain": [
       "<Figure size 720x720 with 2 Axes>"
      ]
     },
     "metadata": {
      "needs_background": "light"
     },
     "output_type": "display_data"
    }
   ],
   "source": [
    "us_can_gdf_dissolved3.plot(column = 'NHL_players', figsize=(10, 10), legend=True,\n",
    "                  legend_kwds={'label':\"Total Number of NHL Players\"})\n",
    "# plt.savefig(\"pictures/province_state_choropleth.png\", bbox_inches='tight', pad_inches=0.2)"
   ]
  },
  {
   "cell_type": "code",
   "execution_count": 50,
   "metadata": {
    "ExecuteTime": {
     "end_time": "2021-04-30T19:05:55.189727Z",
     "start_time": "2021-04-30T19:05:54.876529Z"
    }
   },
   "outputs": [
    {
     "data": {
      "text/plain": [
       "<AxesSubplot:>"
      ]
     },
     "execution_count": 50,
     "metadata": {},
     "output_type": "execute_result"
    },
    {
     "data": {
      "image/png": "[encoded data removed]",
      "text/plain": [
       "<Figure size 720x720 with 2 Axes>"
      ]
     },
     "metadata": {
      "needs_background": "light"
     },
     "output_type": "display_data"
    }
   ],
   "source": [
    "us_can_gdf_dissolved3.plot(column = 'Players_100k_people', figsize=(10, 10), legend=True,\n",
    "                  legend_kwds={'label':\"Total Number of NHL Players\"})"
   ]
  },
  {
   "cell_type": "markdown",
   "metadata": {},
   "source": [
    "## Cartogram"
   ]
  },
  {
   "cell_type": "code",
   "execution_count": 51,
   "metadata": {
    "ExecuteTime": {
     "end_time": "2021-04-30T19:05:55.295848Z",
     "start_time": "2021-04-30T19:05:55.191978Z"
    }
   },
   "outputs": [],
   "source": [
    "# had to change the projection of it to work\n",
    "us_can_gdf_dissolved3.to_crs(\"EPSG:4326\", inplace=True)"
   ]
  },
  {
   "cell_type": "code",
   "execution_count": 52,
   "metadata": {
    "ExecuteTime": {
     "end_time": "2021-04-30T19:05:56.895502Z",
     "start_time": "2021-04-30T19:05:55.297572Z"
    },
    "scrolled": true
   },
   "outputs": [
    {
     "data": {
      "text/plain": [
       "Text(0.5, 1.0, 'Basic Cartogram of NA States/Provinces NHL Player Ratio')"
      ]
     },
     "execution_count": 52,
     "metadata": {},
     "output_type": "execute_result"
    },
    {
     "data": {
      "image/png": "[encoded data removed]",
      "text/plain": [
       "<Figure size 504x504 with 1 Axes>"
      ]
     },
     "metadata": {
      "needs_background": "light"
     },
     "output_type": "display_data"
    }
   ],
   "source": [
    "gplt.cartogram(us_can_gdf_dissolved3, scale='Players_100k_people', \n",
    "               projection=gcrs.AlbersEqualArea(), figsize=(7,7))\n",
    "plt.title(\"Basic Cartogram of NA States/Provinces NHL Player Ratio\", fontdict={\"fontsize\":15})"
   ]
  },
  {
   "cell_type": "code",
   "execution_count": 54,
   "metadata": {
    "ExecuteTime": {
     "end_time": "2021-04-30T19:06:30.814608Z",
     "start_time": "2021-04-30T19:06:28.182734Z"
    }
   },
   "outputs": [
    {
     "data": {
      "image/png": "[encoded data removed]",
      "text/plain": [
       "<Figure size 1080x1080 with 1 Axes>"
      ]
     },
     "metadata": {
      "needs_background": "light"
     },
     "output_type": "display_data"
    }
   ],
   "source": [
    "ax1 = gplt.cartogram(us_can_gdf_dissolved3, scale='Players_100k_people', projection=gcrs.AlbersEqualArea(), \n",
    "                     figsize=(15,15), limits=(0.15, 0.95), color = 'green')\n",
    "gplt.polyplot(us_can_gdf_dissolved3, facecolor='white', edgecolor='grey', ax=ax1)\n",
    "ax1.set_title(\"Cartogram of North American States/Provinces NHL Player Ratio\", \n",
    "              fontdict={\"fontsize\":15, 'fontweight':'bold'})\n",
    "plt.savefig(\"pictures/province_state_cartogram.png\")\n",
    "# , bbox_inches='tight', pad_inches=1"
   ]
  },
  {
   "cell_type": "markdown",
   "metadata": {},
   "source": [
    "# Saving Data "
   ]
  },
  {
   "cell_type": "code",
   "execution_count": 57,
   "metadata": {
    "ExecuteTime": {
     "end_time": "2021-04-30T19:08:15.246453Z",
     "start_time": "2021-04-30T19:08:15.240335Z"
    }
   },
   "outputs": [],
   "source": [
    "# smaller version of gdf\n",
    "us_can_gdf_dissolved4 = us_can_gdf_dissolved3[['geometry', 'ABB', 'Code', \n",
    "                                               'Country', 'NHL_players', 'Players_100k_people']]"
   ]
  },
  {
   "cell_type": "code",
   "execution_count": 9,
   "metadata": {
    "ExecuteTime": {
     "end_time": "2021-05-03T21:32:34.823852Z",
     "start_time": "2021-05-03T21:32:34.811841Z"
    }
   },
   "outputs": [
    {
     "ename": "NameError",
     "evalue": "name 'us_can_gdf_dissolved4' is not defined",
     "output_type": "error",
     "traceback": [
      "\u001b[0;31m---------------------------------------------------------------------------\u001b[0m",
      "\u001b[0;31mNameError\u001b[0m                                 Traceback (most recent call last)",
      "\u001b[0;32m<ipython-input-9-b45d6199c8eb>\u001b[0m in \u001b[0;36m<module>\u001b[0;34m\u001b[0m\n\u001b[0;32m----> 1\u001b[0;31m \u001b[0mus_can_gdf_dissolved4\u001b[0m\u001b[0;34m\u001b[0m\u001b[0;34m\u001b[0m\u001b[0m\n\u001b[0m",
      "\u001b[0;31mNameError\u001b[0m: name 'us_can_gdf_dissolved4' is not defined"
     ]
    }
   ],
   "source": [
    "us_can_gdf_dissolved4"
   ]
  },
  {
   "cell_type": "code",
   "execution_count": 58,
   "metadata": {
    "ExecuteTime": {
     "end_time": "2021-04-30T19:08:19.113849Z",
     "start_time": "2021-04-30T19:08:18.776832Z"
    }
   },
   "outputs": [],
   "source": [
    "# us_can_gdf_dissolved3\n",
    "us_can_gdf_dissolved4.to_file(\"data/us_can_geometry.geojson\", driver='GeoJSON')"
   ]
  }
 ],
 "metadata": {
  "kernelspec": {
   "display_name": "Python [conda env:pysparkenv]",
   "language": "python",
   "name": "conda-env-pysparkenv-py"
  },
  "language_info": {
   "codemirror_mode": {
    "name": "ipython",
    "version": 3
   },
   "file_extension": ".py",
   "mimetype": "text/x-python",
   "name": "python",
   "nbconvert_exporter": "python",
   "pygments_lexer": "ipython3",
   "version": "3.7.6"
  },
  "toc": {
   "base_numbering": 1,
   "nav_menu": {},
   "number_sections": true,
   "sideBar": true,
   "skip_h1_title": false,
   "title_cell": "Table of Contents",
   "title_sidebar": "Contents",
   "toc_cell": false,
   "toc_position": {
    "height": "calc(100% - 180px)",
    "left": "10px",
    "top": "150px",
    "width": "340.796875px"
   },
   "toc_section_display": true,
   "toc_window_display": true
  },
  "varInspector": {
   "cols": {
    "lenName": 16,
    "lenType": 16,
    "lenVar": 40
   },
   "kernels_config": {
    "python": {
     "delete_cmd_postfix": "",
     "delete_cmd_prefix": "del ",
     "library": "var_list.py",
     "varRefreshCmd": "print(var_dic_list())"
    },
    "r": {
     "delete_cmd_postfix": ") ",
     "delete_cmd_prefix": "rm(",
     "library": "var_list.r",
     "varRefreshCmd": "cat(var_dic_list()) "
    }
   },
   "types_to_exclude": [
    "module",
    "function",
    "builtin_function_or_method",
    "instance",
    "_Feature"
   ],
   "window_display": false
  }
 },
 "nbformat": 4,
 "nbformat_minor": 2
}
