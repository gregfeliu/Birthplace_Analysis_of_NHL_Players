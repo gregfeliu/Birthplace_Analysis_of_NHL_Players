{
 "cells": [
  {
   "cell_type": "markdown",
   "metadata": {},
   "source": [
    "# Analyzing the Birthplaces of NHL Players and Their Closest NHL Team"
   ]
  },
  {
   "cell_type": "markdown",
   "metadata": {},
   "source": [
    "# Imports "
   ]
  },
  {
   "cell_type": "code",
   "execution_count": null,
   "metadata": {
    "ExecuteTime": {
     "end_time": "2021-05-03T20:49:14.891677Z",
     "start_time": "2021-05-03T20:49:14.879409Z"
    }
   },
   "outputs": [],
   "source": [
    "import pandas as pd\n",
    "from functions import *\n",
    "%run functions.py\n",
    "import seaborn as sns\n",
    "import warnings\n",
    "warnings.filterwarnings('ignore')\n",
    "from haversine import haversine, Unit # I could have used geopy.distance, too\n",
    "import scipy.stats as st\n",
    "import numpy as np \n",
    "import pylab \n",
    "import mapclassify as mc\n",
    "import geoplot as gplt\n",
    "import geoplot.crs as gcrs\n",
    "import matplotlib.pyplot as plt\n",
    "import fiona"
   ]
  },
  {
   "cell_type": "markdown",
   "metadata": {},
   "source": [
    "## Data"
   ]
  },
  {
   "cell_type": "code",
   "execution_count": null,
   "metadata": {
    "ExecuteTime": {
     "end_time": "2021-04-30T19:05:51.648282Z",
     "start_time": "2021-04-30T19:05:51.629814Z"
    }
   },
   "outputs": [],
   "source": [
    "all_players_df = pd.read_csv('data/player_info_df.csv', index_col=0)\n",
    "all_na_players_df = pd.read_csv('data/all_players_full_info.csv', index_col=0)"
   ]
  },
  {
   "cell_type": "code",
   "execution_count": null,
   "metadata": {
    "ExecuteTime": {
     "end_time": "2021-04-30T19:05:51.662627Z",
     "start_time": "2021-04-30T19:05:51.650587Z"
    }
   },
   "outputs": [],
   "source": [
    "player_gdf = pd.read_csv(\"data/player_gdf.csv\", index_col=0)\n",
    "player_gdf.drop(columns = ['link','Lat', 'Lng', 'geometry', 'nearest_geom', 'line'], inplace=True)"
   ]
  },
  {
   "cell_type": "code",
   "execution_count": null,
   "metadata": {
    "ExecuteTime": {
     "end_time": "2021-04-30T19:05:51.681202Z",
     "start_time": "2021-04-30T19:05:51.664808Z"
    }
   },
   "outputs": [],
   "source": [
    "player_gdf.head(2)"
   ]
  },
  {
   "cell_type": "markdown",
   "metadata": {},
   "source": [
    "# Team Analysis"
   ]
  },
  {
   "cell_type": "markdown",
   "metadata": {},
   "source": [
    "## How Many Players COULD Play for Closest Team"
   ]
  },
  {
   "cell_type": "code",
   "execution_count": null,
   "metadata": {
    "ExecuteTime": {
     "end_time": "2021-04-30T19:05:51.688160Z",
     "start_time": "2021-04-30T19:05:51.683061Z"
    }
   },
   "outputs": [],
   "source": [
    "team_df = pd.DataFrame(player_gdf.groupby('nearest_team').id.count())"
   ]
  },
  {
   "cell_type": "markdown",
   "metadata": {},
   "source": [
    "### Full teams"
   ]
  },
  {
   "cell_type": "code",
   "execution_count": null,
   "metadata": {
    "ExecuteTime": {
     "end_time": "2021-04-30T19:05:51.812268Z",
     "start_time": "2021-04-30T19:05:51.690307Z"
    }
   },
   "outputs": [],
   "source": [
    "# distribution\n",
    "sns.violinplot(x=team_df[\"id\"])"
   ]
  },
  {
   "cell_type": "code",
   "execution_count": null,
   "metadata": {
    "ExecuteTime": {
     "end_time": "2021-04-30T19:05:51.822832Z",
     "start_time": "2021-04-30T19:05:51.813887Z"
    }
   },
   "outputs": [],
   "source": [
    "# 11 teams would still be around!\n",
    "# all 7 canadian teams plus one border team (Detroit, not Buffalo though)\n",
    "team_df[team_df['id'] > 18].sort_values(by='id', ascending=False)"
   ]
  },
  {
   "cell_type": "code",
   "execution_count": null,
   "metadata": {
    "ExecuteTime": {
     "end_time": "2021-04-30T19:05:51.830197Z",
     "start_time": "2021-04-30T19:05:51.827278Z"
    }
   },
   "outputs": [],
   "source": [
    "print(f\"{round(all_na_players_df.shape[0] / all_players_df.shape[0], 2)*100}% of players are from NA\")"
   ]
  },
  {
   "cell_type": "code",
   "execution_count": null,
   "metadata": {
    "ExecuteTime": {
     "end_time": "2021-04-30T19:05:51.836158Z",
     "start_time": "2021-04-30T19:05:51.833036Z"
    }
   },
   "outputs": [],
   "source": [
    "# A team roster has 18 players, normally\n",
    "team_roster_count = player_gdf.shape[0] / player_gdf.team_name.nunique()"
   ]
  },
  {
   "cell_type": "code",
   "execution_count": null,
   "metadata": {
    "ExecuteTime": {
     "end_time": "2021-04-30T19:05:51.845027Z",
     "start_time": "2021-04-30T19:05:51.837796Z"
    }
   },
   "outputs": [],
   "source": [
    "# Since 70% of players are from NA, how many teams have 70% of a roster? 13\n",
    "## how many teams have more than 13 players born close to them? Same amount as before\n",
    "team_df[team_df['id'] > 13].sort_values(by='id', ascending=False)"
   ]
  },
  {
   "cell_type": "markdown",
   "metadata": {},
   "source": [
    "#### Are reasonably close"
   ]
  },
  {
   "cell_type": "code",
   "execution_count": null,
   "metadata": {
    "ExecuteTime": {
     "end_time": "2021-04-30T19:05:51.852989Z",
     "start_time": "2021-04-30T19:05:51.847223Z"
    }
   },
   "outputs": [],
   "source": [
    "team_df_close = pd.DataFrame(player_gdf[player_gdf['close_to_any_team']==True].groupby('nearest_team').id.count())"
   ]
  },
  {
   "cell_type": "code",
   "execution_count": null,
   "metadata": {
    "ExecuteTime": {
     "end_time": "2021-04-30T19:05:51.862211Z",
     "start_time": "2021-04-30T19:05:51.854539Z"
    }
   },
   "outputs": [],
   "source": [
    "# 8 teams have enough players born close to the team\n",
    "team_df_close[team_df_close['id'] > 13].sort_values(by='id', ascending=False)"
   ]
  },
  {
   "cell_type": "markdown",
   "metadata": {},
   "source": [
    "## Few Players"
   ]
  },
  {
   "cell_type": "code",
   "execution_count": null,
   "metadata": {
    "ExecuteTime": {
     "end_time": "2021-04-30T19:05:51.873234Z",
     "start_time": "2021-04-30T19:05:51.864173Z"
    }
   },
   "outputs": [],
   "source": [
    "# lots of teh southern teams have 5 or fewer players\n",
    "# Every team has at least one NHL-quality player near them. That's frankly surprising\n",
    "team_df[team_df['id'] < 13].sort_values(by='id')"
   ]
  },
  {
   "cell_type": "markdown",
   "metadata": {},
   "source": [
    "# Players Playing for Home Team"
   ]
  },
  {
   "cell_type": "code",
   "execution_count": null,
   "metadata": {
    "ExecuteTime": {
     "end_time": "2021-04-30T19:05:51.879174Z",
     "start_time": "2021-04-30T19:05:51.875397Z"
    }
   },
   "outputs": [],
   "source": [
    "home_team = player_gdf[player_gdf['team_name'] == player_gdf['nearest_team']]\n",
    "# only 32 players play for their local team\n",
    "print(home_team.shape[0])"
   ]
  },
  {
   "cell_type": "code",
   "execution_count": null,
   "metadata": {
    "ExecuteTime": {
     "end_time": "2021-04-30T19:05:51.888996Z",
     "start_time": "2021-04-30T19:05:51.880871Z"
    }
   },
   "outputs": [],
   "source": [
    "# the Bruins and the Maples Leafs have the most hometown players\n",
    "home_team_groupby = pd.DataFrame(home_team.groupby('team_name').id.count())\n",
    "home_team_groupby.sort_values(by='id', ascending=False)"
   ]
  },
  {
   "cell_type": "markdown",
   "metadata": {},
   "source": [
    "## Which team has the highest proportion of local players on their team?"
   ]
  },
  {
   "cell_type": "code",
   "execution_count": null,
   "metadata": {
    "ExecuteTime": {
     "end_time": "2021-04-30T19:05:51.893169Z",
     "start_time": "2021-04-30T19:05:51.890397Z"
    }
   },
   "outputs": [],
   "source": [
    "# since the Maple Leafs have the most local players, it makes sense that they would have the most local players\n",
    "## which team has the highest proportion of their local players on their team?\n",
    "### divide values in home_team_groupby by values in closest team\n",
    "teams_w_local_players = list(home_team_groupby.index)\n",
    "team_df_w_local_players = team_df[team_df.index.isin(teams_w_local_players)]"
   ]
  },
  {
   "cell_type": "code",
   "execution_count": null,
   "metadata": {
    "ExecuteTime": {
     "end_time": "2021-04-30T19:05:51.905505Z",
     "start_time": "2021-04-30T19:05:51.894812Z"
    }
   },
   "outputs": [],
   "source": [
    "home_team_groupby['Total_local_players_in_NHL'] = team_df_w_local_players\n",
    "percent_of_local_players = round(home_team_groupby['id'] / \n",
    "                                 home_team_groupby['Total_local_players_in_NHL'], 2) * 100\n",
    "home_team_groupby['Percent_of_local_players_on_team'] = percent_of_local_players\n",
    "home_team_groupby.sort_values(by='Percent_of_local_players_on_team', ascending=False)"
   ]
  },
  {
   "cell_type": "markdown",
   "metadata": {},
   "source": [
    "# How many players have their closest team being Seattle? "
   ]
  },
  {
   "cell_type": "code",
   "execution_count": null,
   "metadata": {
    "ExecuteTime": {
     "end_time": "2021-04-30T19:05:51.912039Z",
     "start_time": "2021-04-30T19:05:51.907521Z"
    },
    "scrolled": true
   },
   "outputs": [],
   "source": [
    "# Seattle will have a new team in 2021\n",
    "# the new arena's coordinates '47.622, -122.354'\n",
    "\n",
    "# getting all players who have their closest team being in northwest\n",
    "players_from_nw = player_gdf[player_gdf['nearest_team'].isin([\n",
    "                                                             'Vancouver Canucks'])].reset_index(drop=True)"
   ]
  },
  {
   "cell_type": "code",
   "execution_count": null,
   "metadata": {
    "ExecuteTime": {
     "end_time": "2021-04-30T19:05:51.920794Z",
     "start_time": "2021-04-30T19:05:51.914032Z"
    }
   },
   "outputs": [],
   "source": [
    "dist_to_seattle = [haversine([float(players_from_nw['coordinates'][idx].split(\",\")[0]), \n",
    "                              float(players_from_nw['coordinates'][idx].split(\",\")[1])],\n",
    "                              [47.622, -122.354],unit=Unit.MILES) for idx in range(len(players_from_nw))]\n",
    "close_to_seattle = [x for x in dist_to_seattle if x < 60]\n",
    "# two players were born within 60 miles of seattle \n",
    "len(close_to_seattle)"
   ]
  },
  {
   "cell_type": "markdown",
   "metadata": {},
   "source": [
    "# How many players are REASONABLY close and PLAYING for their NHL team?"
   ]
  },
  {
   "cell_type": "code",
   "execution_count": null,
   "metadata": {
    "ExecuteTime": {
     "end_time": "2021-04-30T19:05:51.927550Z",
     "start_time": "2021-04-30T19:05:51.922644Z"
    }
   },
   "outputs": [],
   "source": [
    "# I'll define reasonably close as 60 miles away (as the crow flies)\n",
    "## 394 players are very close to A team\n",
    "very_close_players_df = player_gdf[player_gdf['haversine_distance'] < 60]\n",
    "very_close_players_df.shape[0]"
   ]
  },
  {
   "cell_type": "code",
   "execution_count": null,
   "metadata": {
    "ExecuteTime": {
     "end_time": "2021-04-30T19:05:51.932322Z",
     "start_time": "2021-04-30T19:05:51.929223Z"
    }
   },
   "outputs": [],
   "source": [
    "# 188 players are not reasonably close to any NHL team (in addition to the 30% of non-American players)\n",
    "all_na_players_df.shape[0] - very_close_players_df.shape[0]"
   ]
  },
  {
   "cell_type": "code",
   "execution_count": null,
   "metadata": {
    "ExecuteTime": {
     "end_time": "2021-04-30T19:05:51.938705Z",
     "start_time": "2021-04-30T19:05:51.933942Z"
    }
   },
   "outputs": [],
   "source": [
    "# how many players are close to THEIR team? 24\n",
    "very_close_local_players_df = player_gdf[(player_gdf['haversine_distance'] < 60) & \n",
    "                                        (player_gdf['team_name'] == player_gdf['nearest_team'])]\n",
    "very_close_local_players_df.shape[0]"
   ]
  },
  {
   "cell_type": "code",
   "execution_count": null,
   "metadata": {
    "ExecuteTime": {
     "end_time": "2021-04-30T19:05:51.951909Z",
     "start_time": "2021-04-30T19:05:51.944246Z"
    }
   },
   "outputs": [],
   "source": [
    "# which teams have the most local players?\n",
    "very_close_groupby = pd.DataFrame(very_close_local_players_df.groupby('team_name').id.count())\n",
    "very_close_groupby.sort_values(by='id', ascending=False)"
   ]
  },
  {
   "cell_type": "markdown",
   "metadata": {},
   "source": [
    "# Which States/Provinces Have the Most Players Per Capita?"
   ]
  },
  {
   "cell_type": "markdown",
   "metadata": {},
   "source": [
    "## Engineering the Population Data"
   ]
  },
  {
   "cell_type": "markdown",
   "metadata": {},
   "source": [
    "### US"
   ]
  },
  {
   "cell_type": "code",
   "execution_count": null,
   "metadata": {
    "ExecuteTime": {
     "end_time": "2021-04-30T19:05:52.171796Z",
     "start_time": "2021-04-30T19:05:51.955753Z"
    }
   },
   "outputs": [],
   "source": [
    "# had to read files like this b/c it is xlsx file (https://stackoverflow.com/questions/65254535/xlrd-biffh-xlrderror-excel-xlsx-file-not-supported/65255334)\n",
    "# I got the data from https://www.census.gov/data/datasets/time-series/demo/popest/2010s-state-total.html\n",
    "us_pop_df = pd.read_excel(\n",
    "    \"data/nst-est2019-01.xlsx\",\n",
    "     engine='openpyxl', skiprows=3\n",
    ")\n",
    "us_pop_df2019 = us_pop_df[['Unnamed: 0', 2019]]\n",
    "us_pop_df2019.columns = ['State_w_dot', 'Population'] # for 2019\n",
    "us_pop_df2019.drop(index= us_pop_df2019.index[56:], inplace=True)\n",
    "us_pop_df2019.drop(index= us_pop_df2019.index[:5], inplace=True)\n",
    "us_pop_df2019['stateProvince'] = [x[1:] for x in us_pop_df2019['State_w_dot']]\n",
    "us_pop_df2019['Country'] = 'USA'"
   ]
  },
  {
   "cell_type": "code",
   "execution_count": null,
   "metadata": {
    "ExecuteTime": {
     "end_time": "2021-04-30T19:05:52.177972Z",
     "start_time": "2021-04-30T19:05:52.173406Z"
    }
   },
   "outputs": [],
   "source": [
    "# adding State Abbreviations\n",
    "# from https://worldpopulationreview.com/states/state-abbreviations\n",
    "us_abbrev = pd.read_csv(\"data/us_state_abbreviations.csv\")"
   ]
  },
  {
   "cell_type": "code",
   "execution_count": null,
   "metadata": {
    "ExecuteTime": {
     "end_time": "2021-04-30T19:05:52.184191Z",
     "start_time": "2021-04-30T19:05:52.179394Z"
    }
   },
   "outputs": [],
   "source": [
    "# adding state abbreviations to the data \n",
    "us_pop_df2019_abbrev = pd.merge(us_pop_df2019, us_abbrev, left_on='stateProvince', right_on='State')"
   ]
  },
  {
   "cell_type": "markdown",
   "metadata": {},
   "source": [
    "### Canada"
   ]
  },
  {
   "cell_type": "code",
   "execution_count": null,
   "metadata": {
    "ExecuteTime": {
     "end_time": "2021-04-30T19:05:52.195556Z",
     "start_time": "2021-04-30T19:05:52.185662Z"
    }
   },
   "outputs": [],
   "source": [
    "can_pop_df = pd.read_csv(\"data/1710000901-eng.csv\", skiprows=5)\n",
    "can_pop_df.drop(index= can_pop_df.index[15:], inplace=True)\n",
    "can_pop_df.drop(index= can_pop_df.index[:2], inplace=True)\n",
    "can_pop_df_2021 = can_pop_df[['Geography', 'Q1 2021']]\n",
    "can_pop_df_2021.columns = ['Geography', 'Population']\n",
    "can_pop_df_2021['Population'] = can_pop_df_2021['Population'].str.replace(',', '').astype(float)\n",
    "can_pop_df_2021['stateProvince'] = [x[:-8] if \"(map)\" in x else x for x in can_pop_df_2021['Geography']]\n",
    "can_pop_df_2021['Country'] = 'CAN'"
   ]
  },
  {
   "cell_type": "code",
   "execution_count": null,
   "metadata": {
    "ExecuteTime": {
     "end_time": "2021-04-30T19:05:52.204133Z",
     "start_time": "2021-04-30T19:05:52.196889Z"
    }
   },
   "outputs": [],
   "source": [
    "# canadian abbreviations\n",
    "can_abbrev = pd.read_excel(\"data/CountryCAN_e.xls\")\n",
    "can_abbrev['Province'] = [x.title() for x in can_abbrev['Province or Territory Name']]"
   ]
  },
  {
   "cell_type": "code",
   "execution_count": null,
   "metadata": {
    "ExecuteTime": {
     "end_time": "2021-04-30T19:05:52.210558Z",
     "start_time": "2021-04-30T19:05:52.205701Z"
    }
   },
   "outputs": [],
   "source": [
    "# merging the two\n",
    "can_pop_df_2021_abbrev = pd.merge(can_pop_df_2021, can_abbrev, left_on='stateProvince', right_on='Province')"
   ]
  },
  {
   "cell_type": "markdown",
   "metadata": {},
   "source": [
    "### Merging the US and Canada Population data"
   ]
  },
  {
   "cell_type": "code",
   "execution_count": null,
   "metadata": {
    "ExecuteTime": {
     "end_time": "2021-04-30T19:05:52.216745Z",
     "start_time": "2021-04-30T19:05:52.212062Z"
    }
   },
   "outputs": [],
   "source": [
    "us_can_pop_df_full = pd.concat([us_pop_df2019_abbrev, can_pop_df_2021_abbrev])"
   ]
  },
  {
   "cell_type": "code",
   "execution_count": null,
   "metadata": {
    "ExecuteTime": {
     "end_time": "2021-04-30T19:05:52.221860Z",
     "start_time": "2021-04-30T19:05:52.218291Z"
    }
   },
   "outputs": [],
   "source": [
    "us_can_pop_df = us_can_pop_df_full[['Population', 'stateProvince', 'Code', 'Country']]"
   ]
  },
  {
   "cell_type": "markdown",
   "metadata": {},
   "source": [
    "## Combining with the Player Data"
   ]
  },
  {
   "cell_type": "code",
   "execution_count": null,
   "metadata": {
    "ExecuteTime": {
     "end_time": "2021-04-30T19:05:52.226953Z",
     "start_time": "2021-04-30T19:05:52.223376Z"
    }
   },
   "outputs": [],
   "source": [
    "player_province_data = pd.DataFrame(player_gdf.groupby('birthStateProvince').id.count())"
   ]
  },
  {
   "cell_type": "code",
   "execution_count": null,
   "metadata": {
    "ExecuteTime": {
     "end_time": "2021-04-30T19:05:52.232688Z",
     "start_time": "2021-04-30T19:05:52.228462Z"
    }
   },
   "outputs": [],
   "source": [
    "us_can_player_pop_df = pd.merge(us_can_pop_df, player_province_data, \n",
    "                                left_on=['Code'], right_on=['birthStateProvince'])"
   ]
  },
  {
   "cell_type": "code",
   "execution_count": null,
   "metadata": {
    "ExecuteTime": {
     "end_time": "2021-04-30T19:05:52.236974Z",
     "start_time": "2021-04-30T19:05:52.234331Z"
    }
   },
   "outputs": [],
   "source": [
    "us_can_player_pop_df.columns = ['Population', 'stateProvince', 'Code', 'Country', 'NHL_players']"
   ]
  },
  {
   "cell_type": "code",
   "execution_count": null,
   "metadata": {
    "ExecuteTime": {
     "end_time": "2021-04-30T19:05:52.242445Z",
     "start_time": "2021-04-30T19:05:52.238541Z"
    }
   },
   "outputs": [],
   "source": [
    "# standardizing how many players there are per 100k inhabitants\n",
    "us_can_player_pop_df['Players_100k_people'] = round((us_can_player_pop_df['NHL_players'] / us_can_player_pop_df['Population']) * 100000, 2) "
   ]
  },
  {
   "cell_type": "markdown",
   "metadata": {},
   "source": [
    "## Analyzing Players Per Capita"
   ]
  },
  {
   "cell_type": "code",
   "execution_count": null,
   "metadata": {
    "ExecuteTime": {
     "end_time": "2021-04-30T19:05:52.248255Z",
     "start_time": "2021-04-30T19:05:52.243948Z"
    }
   },
   "outputs": [],
   "source": [
    "# keeping only the 41 states and provinces with players\n",
    "us_can_player_pop_df.sort_values(by='Players_100k_people', ascending=False, inplace=True)\n",
    "us_can_player_pop_df.shape"
   ]
  },
  {
   "cell_type": "code",
   "execution_count": null,
   "metadata": {
    "ExecuteTime": {
     "end_time": "2021-04-30T19:05:52.266889Z",
     "start_time": "2021-04-30T19:05:52.250005Z"
    }
   },
   "outputs": [],
   "source": [
    "us_can_player_pop_df[us_can_player_pop_df['Country']=='USA']"
   ]
  },
  {
   "cell_type": "code",
   "execution_count": null,
   "metadata": {
    "ExecuteTime": {
     "end_time": "2021-04-30T19:05:52.535515Z",
     "start_time": "2021-04-30T19:05:52.268783Z"
    }
   },
   "outputs": [],
   "source": [
    "# plotting all states. Big disparity here!\n",
    "sns.scatterplot(x = us_can_player_pop_df['Players_100k_people'], y = us_can_player_pop_df['Code'])"
   ]
  },
  {
   "cell_type": "code",
   "execution_count": null,
   "metadata": {
    "ExecuteTime": {
     "end_time": "2021-04-30T19:05:52.548063Z",
     "start_time": "2021-04-30T19:05:52.537185Z"
    }
   },
   "outputs": [],
   "source": [
    "# Canadian provinces\n",
    "us_can_player_pop_df[us_can_player_pop_df['Country'] == 'CAN']"
   ]
  },
  {
   "cell_type": "code",
   "execution_count": null,
   "metadata": {
    "ExecuteTime": {
     "end_time": "2021-04-30T19:05:52.552794Z",
     "start_time": "2021-04-30T19:05:52.549933Z"
    }
   },
   "outputs": [],
   "source": [
    "# Plotting the top 20 states/provinces\n",
    "top20_us_can_player_pop_df = us_can_player_pop_df.iloc[0:20].reset_index(drop=True)"
   ]
  },
  {
   "cell_type": "code",
   "execution_count": null,
   "metadata": {
    "ExecuteTime": {
     "end_time": "2021-04-30T19:05:52.563211Z",
     "start_time": "2021-04-30T19:05:52.554711Z"
    },
    "scrolled": true
   },
   "outputs": [],
   "source": [
    "top20_us_can_player_pop_df.head()"
   ]
  },
  {
   "cell_type": "code",
   "execution_count": null,
   "metadata": {
    "ExecuteTime": {
     "end_time": "2021-04-30T19:05:52.568833Z",
     "start_time": "2021-04-30T19:05:52.564720Z"
    },
    "scrolled": true
   },
   "outputs": [],
   "source": [
    "# The average Saskatchewanian is 17 times more likely to play in the nhl than the average New Yorker\n",
    "top20_us_can_player_pop_df['Players_100k_people'][0] / top20_us_can_player_pop_df['Players_100k_people'][17]"
   ]
  },
  {
   "cell_type": "code",
   "execution_count": null,
   "metadata": {
    "ExecuteTime": {
     "end_time": "2021-04-30T19:05:52.758469Z",
     "start_time": "2021-04-30T19:05:52.570691Z"
    },
    "scrolled": true
   },
   "outputs": [],
   "source": [
    "# viewing the top 20 states/provinces\n",
    "ax = sns.scatterplot(x = top20_us_can_player_pop_df['Players_100k_people'], y = top20_us_can_player_pop_df['Code'])\n",
    "ax.set_title(\"Number of NHL Players per 100,000 People in US and Canadian States and Provinces\")"
   ]
  },
  {
   "cell_type": "markdown",
   "metadata": {},
   "source": [
    "## Analyzing the distribution of NHL Players per Capita"
   ]
  },
  {
   "cell_type": "code",
   "execution_count": null,
   "metadata": {
    "ExecuteTime": {
     "end_time": "2021-04-30T19:05:53.278581Z",
     "start_time": "2021-04-30T19:05:52.760859Z"
    }
   },
   "outputs": [],
   "source": [
    "# all of the players per capita data\n",
    "get_best_distribution(us_can_player_pop_df['Players_100k_people'])"
   ]
  },
  {
   "cell_type": "code",
   "execution_count": null,
   "metadata": {
    "ExecuteTime": {
     "end_time": "2021-04-30T19:05:53.843740Z",
     "start_time": "2021-04-30T19:05:53.280364Z"
    }
   },
   "outputs": [],
   "source": [
    "# the top 20 players per capita states/provinces\n",
    "get_best_distribution(top20_us_can_player_pop_df['Players_100k_people'])"
   ]
  },
  {
   "cell_type": "markdown",
   "metadata": {},
   "source": [
    "### Plotting the distributions"
   ]
  },
  {
   "cell_type": "code",
   "execution_count": null,
   "metadata": {
    "ExecuteTime": {
     "end_time": "2021-04-30T19:05:53.965631Z",
     "start_time": "2021-04-30T19:05:53.845641Z"
    }
   },
   "outputs": [],
   "source": [
    "st.probplot(top20_us_can_player_pop_df['Players_100k_people'], dist=st.lognorm(0.69), plot=pylab)\n",
    "pylab.show()"
   ]
  },
  {
   "cell_type": "markdown",
   "metadata": {},
   "source": [
    "# Mapping states by Players per capita"
   ]
  },
  {
   "cell_type": "code",
   "execution_count": null,
   "metadata": {
    "ExecuteTime": {
     "end_time": "2021-05-03T20:45:20.101501Z",
     "start_time": "2021-05-03T20:45:19.877304Z"
    }
   },
   "outputs": [],
   "source": [
    "n_am_gdf = gpd.read_file(\"data/Political_Boundaries_(Area)/Political_Boundaries_(Area).shp\")"
   ]
  },
  {
   "cell_type": "code",
   "execution_count": null,
   "metadata": {
    "ExecuteTime": {
     "end_time": "2021-04-30T19:05:54.561157Z",
     "start_time": "2021-04-30T19:05:54.153417Z"
    }
   },
   "outputs": [],
   "source": [
    "us_can_gdf = n_am_gdf[n_am_gdf['COUNTRY'].isin(['CAN', 'USA'])]\n",
    "us_can_gdf_dissolved = us_can_gdf.dissolve('NAME')\n",
    "us_can_gdf_dissolved2 = us_can_gdf_dissolved[us_can_gdf_dissolved.STATEABB.notnull()]\n",
    "\n",
    "us_can_gdf_dissolved2['ABB'] = [x[-2:] for x in us_can_gdf_dissolved2['STATEABB']]\n",
    "\n",
    "us_can_gdf_dissolved3 = pd.merge(us_can_gdf_dissolved2, us_can_player_pop_df, left_on='ABB', right_on='Code')"
   ]
  },
  {
   "cell_type": "markdown",
   "metadata": {},
   "source": [
    "## Choropleth"
   ]
  },
  {
   "cell_type": "code",
   "execution_count": null,
   "metadata": {
    "ExecuteTime": {
     "end_time": "2021-04-30T19:05:54.874564Z",
     "start_time": "2021-04-30T19:05:54.563033Z"
    },
    "scrolled": true
   },
   "outputs": [],
   "source": [
    "us_can_gdf_dissolved3.plot(column = 'NHL_players', figsize=(10, 10), legend=True,\n",
    "                  legend_kwds={'label':\"Total Number of NHL Players\"})\n",
    "# plt.savefig(\"pictures/province_state_choropleth.png\", bbox_inches='tight', pad_inches=0.2)"
   ]
  },
  {
   "cell_type": "code",
   "execution_count": null,
   "metadata": {
    "ExecuteTime": {
     "end_time": "2021-04-30T19:05:55.189727Z",
     "start_time": "2021-04-30T19:05:54.876529Z"
    }
   },
   "outputs": [],
   "source": [
    "us_can_gdf_dissolved3.plot(column = 'Players_100k_people', figsize=(10, 10), legend=True,\n",
    "                  legend_kwds={'label':\"Total Number of NHL Players\"})"
   ]
  },
  {
   "cell_type": "markdown",
   "metadata": {},
   "source": [
    "## Cartogram"
   ]
  },
  {
   "cell_type": "code",
   "execution_count": null,
   "metadata": {
    "ExecuteTime": {
     "end_time": "2021-04-30T19:05:55.295848Z",
     "start_time": "2021-04-30T19:05:55.191978Z"
    }
   },
   "outputs": [],
   "source": [
    "# had to change the projection of it to work\n",
    "us_can_gdf_dissolved3.to_crs(\"EPSG:4326\", inplace=True)"
   ]
  },
  {
   "cell_type": "code",
   "execution_count": null,
   "metadata": {
    "ExecuteTime": {
     "end_time": "2021-04-30T19:05:56.895502Z",
     "start_time": "2021-04-30T19:05:55.297572Z"
    },
    "scrolled": true
   },
   "outputs": [],
   "source": [
    "gplt.cartogram(us_can_gdf_dissolved3, scale='Players_100k_people', \n",
    "               projection=gcrs.AlbersEqualArea(), figsize=(7,7))\n",
    "plt.title(\"Basic Cartogram of NA States/Provinces NHL Player Ratio\", fontdict={\"fontsize\":15})"
   ]
  },
  {
   "cell_type": "code",
   "execution_count": null,
   "metadata": {
    "ExecuteTime": {
     "end_time": "2021-05-04T16:25:30.142338Z",
     "start_time": "2021-05-04T16:25:30.064226Z"
    }
   },
   "outputs": [],
   "source": [
    "ax1 = gplt.cartogram(us_can_gdf_dissolved3, scale='Players_100k_people', projection=gcrs.AlbersEqualArea(), \n",
    "                     figsize=(15,15), limits=(0.15, 0.95), color = 'green')\n",
    "gplt.polyplot(us_can_gdf_dissolved3, facecolor='white', edgecolor='grey', ax=ax1)\n",
    "ax1.set_title(\"Cartogram of North American States/Provinces NHL Player Ratio\", \n",
    "              fontdict={\"fontsize\":15, 'fontweight':'bold'})\n",
    "plt.savefig(\"pictures/province_state_cartogram.png\")"
   ]
  },
  {
   "cell_type": "markdown",
   "metadata": {},
   "source": [
    "# Saving Data "
   ]
  },
  {
   "cell_type": "code",
   "execution_count": null,
   "metadata": {
    "ExecuteTime": {
     "end_time": "2021-04-30T19:08:15.246453Z",
     "start_time": "2021-04-30T19:08:15.240335Z"
    }
   },
   "outputs": [],
   "source": [
    "# smaller version of gdf\n",
    "us_can_gdf_dissolved4 = us_can_gdf_dissolved3[['geometry', 'ABB', 'Code', \n",
    "                                               'Country', 'NHL_players', 'Players_100k_people']]"
   ]
  },
  {
   "cell_type": "code",
   "execution_count": null,
   "metadata": {
    "ExecuteTime": {
     "end_time": "2021-05-03T21:32:34.823852Z",
     "start_time": "2021-05-03T21:32:34.811841Z"
    }
   },
   "outputs": [],
   "source": [
    "us_can_gdf_dissolved4"
   ]
  },
  {
   "cell_type": "code",
   "execution_count": null,
   "metadata": {
    "ExecuteTime": {
     "end_time": "2021-04-30T19:08:19.113849Z",
     "start_time": "2021-04-30T19:08:18.776832Z"
    }
   },
   "outputs": [],
   "source": [
    "# us_can_gdf_dissolved3\n",
    "us_can_gdf_dissolved4.to_file(\"data/us_can_geometry.geojson\", driver='GeoJSON')"
   ]
  }
 ],
 "metadata": {
  "kernelspec": {
   "display_name": "Python [conda env:pysparkenv]",
   "language": "python",
   "name": "conda-env-pysparkenv-py"
  },
  "language_info": {
   "codemirror_mode": {
    "name": "ipython",
    "version": 3
   },
   "file_extension": ".py",
   "mimetype": "text/x-python",
   "name": "python",
   "nbconvert_exporter": "python",
   "pygments_lexer": "ipython3",
   "version": "3.7.6"
  },
  "toc": {
   "base_numbering": 1,
   "nav_menu": {},
   "number_sections": true,
   "sideBar": true,
   "skip_h1_title": false,
   "title_cell": "Table of Contents",
   "title_sidebar": "Contents",
   "toc_cell": false,
   "toc_position": {
    "height": "calc(100% - 180px)",
    "left": "10px",
    "top": "150px",
    "width": "340.796875px"
   },
   "toc_section_display": true,
   "toc_window_display": true
  },
  "varInspector": {
   "cols": {
    "lenName": 16,
    "lenType": 16,
    "lenVar": 40
   },
   "kernels_config": {
    "python": {
     "delete_cmd_postfix": "",
     "delete_cmd_prefix": "del ",
     "library": "var_list.py",
     "varRefreshCmd": "print(var_dic_list())"
    },
    "r": {
     "delete_cmd_postfix": ") ",
     "delete_cmd_prefix": "rm(",
     "library": "var_list.r",
     "varRefreshCmd": "cat(var_dic_list()) "
    }
   },
   "types_to_exclude": [
    "module",
    "function",
    "builtin_function_or_method",
    "instance",
    "_Feature"
   ],
   "window_display": false
  }
 },
 "nbformat": 4,
 "nbformat_minor": 2
}
