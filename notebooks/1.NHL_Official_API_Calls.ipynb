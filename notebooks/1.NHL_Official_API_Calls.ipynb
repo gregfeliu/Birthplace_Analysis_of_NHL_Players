{
 "cells": [
  {
   "cell_type": "markdown",
   "metadata": {},
   "source": [
    "# NHL Official API Calls"
   ]
  },
  {
   "cell_type": "markdown",
   "metadata": {},
   "source": [
    "# Imports"
   ]
  },
  {
   "cell_type": "code",
   "execution_count": 42,
   "metadata": {
    "ExecuteTime": {
     "end_time": "2021-04-02T18:19:40.469430Z",
     "start_time": "2021-04-02T18:19:40.461606Z"
    }
   },
   "outputs": [],
   "source": [
    "import requests\n",
    "import pandas as pd\n",
    "from functions import *\n",
    "import pickle\n",
    "import wikipedia\n",
    "%run functions.py"
   ]
  },
  {
   "cell_type": "markdown",
   "metadata": {},
   "source": [
    "# Making calls"
   ]
  },
  {
   "cell_type": "markdown",
   "metadata": {},
   "source": [
    "## Getting Team Info"
   ]
  },
  {
   "cell_type": "code",
   "execution_count": 17,
   "metadata": {
    "ExecuteTime": {
     "end_time": "2021-04-02T18:12:15.372089Z",
     "start_time": "2021-04-02T18:12:15.231215Z"
    }
   },
   "outputs": [],
   "source": [
    "## I store this data in the functions file\n",
    "# all_teams = make_bare_api_call(\"teams\")\n",
    "# team_ids = {item['name'] : item['id'] for item in all_teams['teams']}"
   ]
  },
  {
   "cell_type": "code",
   "execution_count": 26,
   "metadata": {
    "ExecuteTime": {
     "end_time": "2021-04-01T20:43:41.445677Z",
     "start_time": "2021-04-01T20:43:41.440642Z"
    }
   },
   "outputs": [],
   "source": [
    "# with open('data/team_id_dict.pickle', 'wb') as handle:\n",
    "#     pickle.dump(team_ids, handle, protocol=pickle.HIGHEST_PROTOCOL)"
   ]
  },
  {
   "cell_type": "markdown",
   "metadata": {},
   "source": [
    "## Putting all player info into df"
   ]
  },
  {
   "cell_type": "code",
   "execution_count": 2,
   "metadata": {
    "ExecuteTime": {
     "end_time": "2021-04-01T19:44:07.323236Z",
     "start_time": "2021-04-01T19:44:03.602413Z"
    }
   },
   "outputs": [],
   "source": [
    "# all_players_df = get_all_player_ids_into_df()"
   ]
  },
  {
   "cell_type": "code",
   "execution_count": 3,
   "metadata": {
    "ExecuteTime": {
     "end_time": "2021-04-01T19:45:37.490924Z",
     "start_time": "2021-04-01T19:44:07.564797Z"
    },
    "scrolled": false
   },
   "outputs": [],
   "source": [
    "# all_players_df2 = add_player_bithplace_to_df(all_players_df)"
   ]
  },
  {
   "cell_type": "markdown",
   "metadata": {},
   "source": [
    "### Adding Team names to dataframe"
   ]
  },
  {
   "cell_type": "code",
   "execution_count": 15,
   "metadata": {
    "ExecuteTime": {
     "end_time": "2021-04-01T20:10:36.078260Z",
     "start_time": "2021-04-01T20:10:36.073476Z"
    }
   },
   "outputs": [],
   "source": [
    "# team_id_values = list(team_ids.values())\n",
    "# team_id_index = [team_id_values.index(x) for x in all_players_df2.team_id]"
   ]
  },
  {
   "cell_type": "code",
   "execution_count": 19,
   "metadata": {
    "ExecuteTime": {
     "end_time": "2021-04-01T20:12:45.158331Z",
     "start_time": "2021-04-01T20:12:45.153363Z"
    }
   },
   "outputs": [],
   "source": [
    "# team_id_keys = list(team_ids.keys())\n",
    "# all_players_df2['team_name'] = [team_id_keys[x] for x in team_id_index]"
   ]
  },
  {
   "cell_type": "markdown",
   "metadata": {},
   "source": [
    "## Saving DataFrame "
   ]
  },
  {
   "cell_type": "code",
   "execution_count": 27,
   "metadata": {
    "ExecuteTime": {
     "end_time": "2021-04-01T20:43:48.224542Z",
     "start_time": "2021-04-01T20:43:48.210021Z"
    }
   },
   "outputs": [],
   "source": [
    "# all_players_df2.to_csv(\"data/player_info_df.csv\")"
   ]
  },
  {
   "cell_type": "markdown",
   "metadata": {},
   "source": [
    "# Getting Location of each team"
   ]
  },
  {
   "cell_type": "code",
   "execution_count": 20,
   "metadata": {
    "ExecuteTime": {
     "end_time": "2021-04-02T18:13:03.507846Z",
     "start_time": "2021-04-02T18:13:03.503581Z"
    }
   },
   "outputs": [],
   "source": [
    "team_arenas = {item['name'] : item['venue']['name'] for item in all_teams['teams']}"
   ]
  },
  {
   "cell_type": "code",
   "execution_count": 24,
   "metadata": {
    "ExecuteTime": {
     "end_time": "2021-04-02T18:15:15.793848Z",
     "start_time": "2021-04-02T18:14:22.912108Z"
    }
   },
   "outputs": [],
   "source": [
    "# searching coords through wikipedia\n",
    "wikipedia_titles = []\n",
    "for x in team_arenas.values():\n",
    "    try:\n",
    "        title = wikipedia.page(x).title\n",
    "    except wikipedia.exceptions.DisambiguationError:\n",
    "        title = None\n",
    "    except wikipedia.exceptions.PageError:\n",
    "        title = \"Google Search\"\n",
    "    wikipedia_titles.append(title)"
   ]
  },
  {
   "cell_type": "code",
   "execution_count": 29,
   "metadata": {
    "ExecuteTime": {
     "end_time": "2021-04-02T18:16:33.276059Z",
     "start_time": "2021-04-02T18:16:11.654140Z"
    }
   },
   "outputs": [],
   "source": [
    "coordinates_from_wikipedia = []\n",
    "for title in wikipedia_titles:\n",
    "    full_coords = None\n",
    "    if title != 'Google Search':\n",
    "        try:\n",
    "            coords = wikipedia.WikipediaPage(title=title).coordinates\n",
    "            str_lat = str(round(float(coords[0]), 4))\n",
    "            str_lng = str(round(float(coords[1]), 4))\n",
    "            full_coords = str_lat + ',' + str_lng\n",
    "        except KeyError:\n",
    "            full_coords = 'KeyError'\n",
    "    coordinates_from_wikipedia.append(full_coords)"
   ]
  },
  {
   "cell_type": "code",
   "execution_count": 39,
   "metadata": {
    "ExecuteTime": {
     "end_time": "2021-04-02T18:18:09.398669Z",
     "start_time": "2021-04-02T18:18:09.392805Z"
    }
   },
   "outputs": [
    {
     "name": "stdout",
     "output_type": "stream",
     "text": [
      "We are missing 4 arena coordinates\n"
     ]
    }
   ],
   "source": [
    "keyerror_indices = [idx for idx, x in enumerate(coordinates_from_wikipedia) if x == 'KeyError']\n",
    "none_indices = [idx for idx, x in enumerate(wikipedia_titles) if x == 'Google Search']\n",
    "all_missing_indices = keyerror_indices + none_indices\n",
    "print(f\"We are missing {len(all_missing_indices)} arena coordinates\")"
   ]
  },
  {
   "cell_type": "code",
   "execution_count": 38,
   "metadata": {
    "ExecuteTime": {
     "end_time": "2021-04-02T18:17:23.562465Z",
     "start_time": "2021-04-02T18:17:23.557947Z"
    }
   },
   "outputs": [
    {
     "data": {
      "text/plain": [
       "[1, 3, 5, 27]"
      ]
     },
     "execution_count": 38,
     "metadata": {},
     "output_type": "execute_result"
    }
   ],
   "source": [
    "all_missing_indices"
   ]
  },
  {
   "cell_type": "code",
   "execution_count": 48,
   "metadata": {
    "ExecuteTime": {
     "end_time": "2021-04-02T18:22:22.517818Z",
     "start_time": "2021-04-02T18:22:22.514667Z"
    }
   },
   "outputs": [],
   "source": [
    "## this helps me view the arenas that I'm missing\n",
    "# for idx, x in enumerate(team_arenas.values()):\n",
    "#     if idx in all_missing_indices:\n",
    "#         print(x)"
   ]
  },
  {
   "cell_type": "code",
   "execution_count": 47,
   "metadata": {
    "ExecuteTime": {
     "end_time": "2021-04-02T18:22:09.414775Z",
     "start_time": "2021-04-02T18:22:09.411787Z"
    }
   },
   "outputs": [],
   "source": [
    "# this helps me correct the coordinate format I get from google\n",
    "# coords = turn_coords_to_correct_format(\"44.9446° N, 93.1002° W\")\n",
    "# coords"
   ]
  },
  {
   "cell_type": "code",
   "execution_count": 49,
   "metadata": {
    "ExecuteTime": {
     "end_time": "2021-04-02T18:22:30.705736Z",
     "start_time": "2021-04-02T18:22:30.702071Z"
    }
   },
   "outputs": [],
   "source": [
    "# saving the coordinates\n",
    "arena_coord_list = ['40.7233,-73.5907', \"39.9012,-75.1720\", '42.3662,-71.0621', '44.9446,-93.1002']"
   ]
  },
  {
   "cell_type": "code",
   "execution_count": 52,
   "metadata": {
    "ExecuteTime": {
     "end_time": "2021-04-02T18:23:29.335295Z",
     "start_time": "2021-04-02T18:23:29.330851Z"
    }
   },
   "outputs": [],
   "source": [
    "# re-adding the coordinates to the coordinate list\n",
    "counter = 0\n",
    "while counter < len(arena_coord_list):\n",
    "    idx_to_replace = all_missing_indices[counter]\n",
    "    coordinates_from_wikipedia[idx_to_replace] = arena_coord_list[counter]\n",
    "    counter += 1"
   ]
  },
  {
   "cell_type": "code",
   "execution_count": 55,
   "metadata": {
    "ExecuteTime": {
     "end_time": "2021-04-02T18:24:24.561819Z",
     "start_time": "2021-04-02T18:24:24.556782Z"
    }
   },
   "outputs": [],
   "source": [
    "arena_df = pd.DataFrame.from_dict(team_arenas, orient='index')"
   ]
  },
  {
   "cell_type": "code",
   "execution_count": 57,
   "metadata": {
    "ExecuteTime": {
     "end_time": "2021-04-02T18:24:59.628687Z",
     "start_time": "2021-04-02T18:24:59.622852Z"
    }
   },
   "outputs": [],
   "source": [
    "arena_df['Coordinates'] = coordinates_from_wikipedia\n",
    "arena_df.columns = ['Arena_name', 'Coordinates']"
   ]
  },
  {
   "cell_type": "code",
   "execution_count": 62,
   "metadata": {
    "ExecuteTime": {
     "end_time": "2021-04-02T18:29:28.695273Z",
     "start_time": "2021-04-02T18:29:28.689697Z"
    }
   },
   "outputs": [],
   "source": [
    "canadian_arenas = [\"Bell Centre\", \"Canadian Tire Centre\", \"Scotiabank Arena\", \"Scotiabank Saddledome\",\n",
    "                  \"Rogers Place\", \"Rogers Arena\", \"Bell MTS Place\"]\n",
    "canadian_teams = [True if x in canadian_arenas else False for x in arena_df['Arena_name']]\n",
    "arena_df['Canadian_team'] = canadian_teams"
   ]
  },
  {
   "cell_type": "markdown",
   "metadata": {},
   "source": [
    "## Saving Arena Info"
   ]
  },
  {
   "cell_type": "code",
   "execution_count": 64,
   "metadata": {
    "ExecuteTime": {
     "end_time": "2021-04-02T18:29:38.890441Z",
     "start_time": "2021-04-02T18:29:38.884015Z"
    }
   },
   "outputs": [],
   "source": [
    "arena_df.to_csv(\"data/arena_df.csv\")"
   ]
  }
 ],
 "metadata": {
  "kernelspec": {
   "display_name": "Python [conda env:learn-env] *",
   "language": "python",
   "name": "conda-env-learn-env-py"
  },
  "language_info": {
   "codemirror_mode": {
    "name": "ipython",
    "version": 3
   },
   "file_extension": ".py",
   "mimetype": "text/x-python",
   "name": "python",
   "nbconvert_exporter": "python",
   "pygments_lexer": "ipython3",
   "version": "3.6.9"
  },
  "toc": {
   "base_numbering": 1,
   "nav_menu": {},
   "number_sections": true,
   "sideBar": true,
   "skip_h1_title": false,
   "title_cell": "Table of Contents",
   "title_sidebar": "Contents",
   "toc_cell": false,
   "toc_position": {},
   "toc_section_display": true,
   "toc_window_display": true
  },
  "varInspector": {
   "cols": {
    "lenName": 16,
    "lenType": 16,
    "lenVar": 40
   },
   "kernels_config": {
    "python": {
     "delete_cmd_postfix": "",
     "delete_cmd_prefix": "del ",
     "library": "var_list.py",
     "varRefreshCmd": "print(var_dic_list())"
    },
    "r": {
     "delete_cmd_postfix": ") ",
     "delete_cmd_prefix": "rm(",
     "library": "var_list.r",
     "varRefreshCmd": "cat(var_dic_list()) "
    }
   },
   "types_to_exclude": [
    "module",
    "function",
    "builtin_function_or_method",
    "instance",
    "_Feature"
   ],
   "window_display": false
  }
 },
 "nbformat": 4,
 "nbformat_minor": 2
}
