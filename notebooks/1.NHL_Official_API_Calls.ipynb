{
 "cells": [
  {
   "cell_type": "markdown",
   "metadata": {},
   "source": [
    "import plotly as py\n",
    "# ^^^ pyforest auto-imports - don't write above this line\n",
    "# NHL Official API Calls"
   ]
  },
  {
   "cell_type": "markdown",
   "metadata": {},
   "source": [
    "# Imports"
   ]
  },
  {
   "cell_type": "code",
   "execution_count": 1,
   "metadata": {
    "ExecuteTime": {
     "end_time": "2021-05-05T14:40:15.636689Z",
     "start_time": "2021-05-05T14:40:13.945619Z"
    }
   },
   "outputs": [],
   "source": [
    "import requests\n",
    "import pandas as pd\n",
    "from functions import *\n",
    "import pickle\n",
    "import wikipedia\n",
    "%run functions.py"
   ]
  },
  {
   "cell_type": "markdown",
   "metadata": {},
   "source": [
    "# Making calls"
   ]
  },
  {
   "cell_type": "markdown",
   "metadata": {},
   "source": [
    "## Getting Team Info"
   ]
  },
  {
   "cell_type": "code",
   "execution_count": 2,
   "metadata": {
    "ExecuteTime": {
     "end_time": "2021-04-07T20:00:19.403878Z",
     "start_time": "2021-04-07T20:00:19.229232Z"
    }
   },
   "outputs": [],
   "source": [
    "# I store this data in the functions file\n",
    "all_teams = make_bare_api_call(\"teams\")\n",
    "team_ids = {item['name'] : item['id'] for item in all_teams['teams']}"
   ]
  },
  {
   "cell_type": "code",
   "execution_count": 3,
   "metadata": {
    "ExecuteTime": {
     "end_time": "2021-04-07T20:00:19.412141Z",
     "start_time": "2021-04-07T20:00:19.406983Z"
    }
   },
   "outputs": [],
   "source": [
    "# I saved the team ids and their names using pickle\n",
    "with open('data/team_id_dict.pickle', 'wb') as handle:\n",
    "    pickle.dump(team_ids, handle, protocol=pickle.HIGHEST_PROTOCOL)"
   ]
  },
  {
   "cell_type": "markdown",
   "metadata": {},
   "source": [
    "## Putting all player info into df"
   ]
  },
  {
   "cell_type": "code",
   "execution_count": 4,
   "metadata": {
    "ExecuteTime": {
     "end_time": "2021-04-07T20:00:23.341930Z",
     "start_time": "2021-04-07T20:00:19.414566Z"
    }
   },
   "outputs": [],
   "source": [
    "all_players_df = get_all_player_ids_into_df()"
   ]
  },
  {
   "cell_type": "code",
   "execution_count": 5,
   "metadata": {
    "ExecuteTime": {
     "end_time": "2021-04-07T20:01:59.568584Z",
     "start_time": "2021-04-07T20:00:23.346030Z"
    },
    "scrolled": false
   },
   "outputs": [],
   "source": [
    "all_players_df2 = add_player_bithplace_to_df(all_players_df)"
   ]
  },
  {
   "cell_type": "markdown",
   "metadata": {},
   "source": [
    "### Adding Team names to dataframe"
   ]
  },
  {
   "cell_type": "code",
   "execution_count": 6,
   "metadata": {
    "ExecuteTime": {
     "end_time": "2021-04-07T20:01:59.578688Z",
     "start_time": "2021-04-07T20:01:59.574267Z"
    }
   },
   "outputs": [],
   "source": [
    "team_id_values = list(team_ids.values())\n",
    "team_id_index = [team_id_values.index(x) for x in all_players_df2.team_id]"
   ]
  },
  {
   "cell_type": "code",
   "execution_count": 7,
   "metadata": {
    "ExecuteTime": {
     "end_time": "2021-04-07T20:01:59.586033Z",
     "start_time": "2021-04-07T20:01:59.581853Z"
    }
   },
   "outputs": [],
   "source": [
    "team_id_keys = list(team_ids.keys())\n",
    "all_players_df2['team_name'] = [team_id_keys[x] for x in team_id_index]"
   ]
  },
  {
   "cell_type": "markdown",
   "metadata": {},
   "source": [
    "## Saving DataFrame "
   ]
  },
  {
   "cell_type": "code",
   "execution_count": 8,
   "metadata": {
    "ExecuteTime": {
     "end_time": "2021-04-07T20:01:59.601531Z",
     "start_time": "2021-04-07T20:01:59.588713Z"
    }
   },
   "outputs": [],
   "source": [
    "all_players_df2.to_csv(\"data/player_info_df.csv\")"
   ]
  },
  {
   "cell_type": "markdown",
   "metadata": {},
   "source": [
    "# Getting Location of each team"
   ]
  },
  {
   "cell_type": "code",
   "execution_count": 9,
   "metadata": {
    "ExecuteTime": {
     "end_time": "2021-04-07T20:01:59.606982Z",
     "start_time": "2021-04-07T20:01:59.603664Z"
    }
   },
   "outputs": [],
   "source": [
    "team_arenas = {item['name'] : item['venue']['name'] for item in all_teams['teams']}"
   ]
  },
  {
   "cell_type": "code",
   "execution_count": 11,
   "metadata": {
    "ExecuteTime": {
     "end_time": "2021-04-07T20:02:44.766355Z",
     "start_time": "2021-04-07T20:02:25.272128Z"
    }
   },
   "outputs": [],
   "source": [
    "# adding the coordinates to a list and identifying the ones with errors\n",
    "coordinates_from_wikipedia = []\n",
    "for title in wikipedia_titles:\n",
    "    full_coords = None\n",
    "    if title != 'Google Search':\n",
    "        try:\n",
    "            coords = wikipedia.WikipediaPage(title=title).coordinates\n",
    "            str_lat = str(round(float(coords[0]), 4))\n",
    "            str_lng = str(round(float(coords[1]), 4))\n",
    "            full_coords = str_lat + ',' + str_lng\n",
    "        except KeyError:\n",
    "            full_coords = 'KeyError'\n",
    "    coordinates_from_wikipedia.append(full_coords)"
   ]
  },
  {
   "cell_type": "code",
   "execution_count": 12,
   "metadata": {
    "ExecuteTime": {
     "end_time": "2021-04-07T20:02:49.644714Z",
     "start_time": "2021-04-07T20:02:49.629605Z"
    }
   },
   "outputs": [
    {
     "name": "stdout",
     "output_type": "stream",
     "text": [
      "We are missing 3 arena coordinates\n"
     ]
    },
    {
     "data": {
      "text/plain": [
       "[1, 5, 27]"
      ]
     },
     "execution_count": 12,
     "metadata": {},
     "output_type": "execute_result"
    }
   ],
   "source": [
    "# Getting the indices and types of errors for the missing arenas\n",
    "keyerror_indices = [idx for idx, x in enumerate(coordinates_from_wikipedia) if x == 'KeyError']\n",
    "none_indices = [idx for idx, x in enumerate(wikipedia_titles) if x == 'Google Search']\n",
    "all_missing_indices = keyerror_indices + none_indices\n",
    "print(f\"We are missing {len(all_missing_indices)} arena coordinates\")\n",
    "all_missing_indices"
   ]
  },
  {
   "cell_type": "code",
   "execution_count": 13,
   "metadata": {
    "ExecuteTime": {
     "end_time": "2021-04-07T20:02:52.876161Z",
     "start_time": "2021-04-07T20:02:52.870766Z"
    }
   },
   "outputs": [
    {
     "name": "stdout",
     "output_type": "stream",
     "text": [
      "Nassau Veterans Memorial Coliseum\n",
      "TD Garden\n",
      "Xcel Energy Center\n"
     ]
    }
   ],
   "source": [
    "## this helps me view the arenas that I'm missing\n",
    "for idx, x in enumerate(team_arenas.values()):\n",
    "    if idx in all_missing_indices:\n",
    "        print(x)"
   ]
  },
  {
   "cell_type": "code",
   "execution_count": 14,
   "metadata": {
    "ExecuteTime": {
     "end_time": "2021-04-07T20:03:00.201797Z",
     "start_time": "2021-04-07T20:03:00.196113Z"
    }
   },
   "outputs": [
    {
     "data": {
      "text/plain": [
       "'44.9446,-93.1002'"
      ]
     },
     "execution_count": 14,
     "metadata": {},
     "output_type": "execute_result"
    }
   ],
   "source": [
    "# this helps me correct the coordinate format I get from google. I ran this for each missing coordinate I found online\n",
    "coords = turn_coords_to_correct_format(\"44.9446° N, 93.1002° W\")\n",
    "coords"
   ]
  },
  {
   "cell_type": "code",
   "execution_count": 16,
   "metadata": {
    "ExecuteTime": {
     "end_time": "2021-04-07T20:04:59.779381Z",
     "start_time": "2021-04-07T20:04:59.775913Z"
    }
   },
   "outputs": [],
   "source": [
    "# saving the coordinates\n",
    "arena_coord_list = ['40.7233,-73.5907', '42.3662,-71.0621', '44.9446,-93.1002']"
   ]
  },
  {
   "cell_type": "code",
   "execution_count": 17,
   "metadata": {
    "ExecuteTime": {
     "end_time": "2021-04-07T20:05:00.245153Z",
     "start_time": "2021-04-07T20:05:00.240849Z"
    }
   },
   "outputs": [],
   "source": [
    "# re-adding the coordinates to the coordinate list\n",
    "counter = 0\n",
    "while counter < len(arena_coord_list):\n",
    "    idx_to_replace = all_missing_indices[counter]\n",
    "    coordinates_from_wikipedia[idx_to_replace] = arena_coord_list[counter]\n",
    "    counter += 1"
   ]
  },
  {
   "cell_type": "code",
   "execution_count": 18,
   "metadata": {
    "ExecuteTime": {
     "end_time": "2021-04-07T20:05:01.591023Z",
     "start_time": "2021-04-07T20:05:01.586008Z"
    }
   },
   "outputs": [],
   "source": [
    "arena_df = pd.DataFrame.from_dict(team_arenas, orient='index')"
   ]
  },
  {
   "cell_type": "code",
   "execution_count": 19,
   "metadata": {
    "ExecuteTime": {
     "end_time": "2021-04-07T20:05:02.187618Z",
     "start_time": "2021-04-07T20:05:02.182006Z"
    }
   },
   "outputs": [],
   "source": [
    "# adding the coordinates\n",
    "arena_df['Coordinates'] = coordinates_from_wikipedia\n",
    "arena_df.columns = ['Arena_name', 'Coordinates']\n",
    "# adding \"canadian_arenas\" feature\n",
    "canadian_arenas = [\"Bell Centre\", \"Canadian Tire Centre\", \"Scotiabank Arena\", \"Scotiabank Saddledome\",\n",
    "                  \"Rogers Place\", \"Rogers Arena\", \"Bell MTS Place\"]\n",
    "canadian_teams = [True if x in canadian_arenas else False for x in arena_df['Arena_name']]\n",
    "arena_df['Canadian_team'] = canadian_teams"
   ]
  },
  {
   "cell_type": "markdown",
   "metadata": {},
   "source": [
    "## Saving Arena Info"
   ]
  },
  {
   "cell_type": "code",
   "execution_count": 21,
   "metadata": {
    "ExecuteTime": {
     "end_time": "2021-04-07T20:05:05.706529Z",
     "start_time": "2021-04-07T20:05:05.697093Z"
    }
   },
   "outputs": [],
   "source": [
    "arena_df.to_csv(\"data/arena_df.csv\")"
   ]
  }
 ],
 "metadata": {
  "kernelspec": {
   "display_name": "Python [conda env:learn-env] *",
   "language": "python",
   "name": "conda-env-learn-env-py"
  },
  "language_info": {
   "codemirror_mode": {
    "name": "ipython",
    "version": 3
   },
   "file_extension": ".py",
   "mimetype": "text/x-python",
   "name": "python",
   "nbconvert_exporter": "python",
   "pygments_lexer": "ipython3",
   "version": "3.6.9"
  },
  "toc": {
   "base_numbering": 1,
   "nav_menu": {},
   "number_sections": true,
   "sideBar": true,
   "skip_h1_title": false,
   "title_cell": "Table of Contents",
   "title_sidebar": "Contents",
   "toc_cell": false,
   "toc_position": {},
   "toc_section_display": true,
   "toc_window_display": true
  },
  "varInspector": {
   "cols": {
    "lenName": 16,
    "lenType": 16,
    "lenVar": 40
   },
   "kernels_config": {
    "python": {
     "delete_cmd_postfix": "",
     "delete_cmd_prefix": "del ",
     "library": "var_list.py",
     "varRefreshCmd": "print(var_dic_list())"
    },
    "r": {
     "delete_cmd_postfix": ") ",
     "delete_cmd_prefix": "rm(",
     "library": "var_list.r",
     "varRefreshCmd": "cat(var_dic_list()) "
    }
   },
   "types_to_exclude": [
    "module",
    "function",
    "builtin_function_or_method",
    "instance",
    "_Feature"
   ],
   "window_display": false
  }
 },
 "nbformat": 4,
 "nbformat_minor": 2
}
